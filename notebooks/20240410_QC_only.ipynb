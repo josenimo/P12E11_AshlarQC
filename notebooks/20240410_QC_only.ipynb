{
 "cells": [
  {
   "cell_type": "code",
   "execution_count": 125,
   "metadata": {},
   "outputs": [],
   "source": [
    "import sys\n",
    "sys.path.append('/Users/jnimoca/Jose_BI/ashlar/ashlar/')\n",
    "from ashlar import fileseries, thumbnail,reg\n",
    "from ashlar.reg import plot_edge_shifts, plot_edge_quality, plot_edge_scatter\n",
    "\n",
    "from ashlar.reg import BioformatsReader\n",
    "from ashlar.reg import PyramidWriter\n",
    "from ashlar.viewer import view_edges\n",
    "# from ashlar.scripts.ashlar import process_axis_flip\n",
    "import matplotlib.pyplot as plt\n",
    "from matplotlib.backends.backend_pdf import PdfPages\n",
    "import networkx as nx\n",
    "import matplotlib.patches as mpatches\n",
    "\n",
    "import argparse\n",
    "import numpy as np\n",
    "import pandas as pd\n",
    "# import pims\n",
    "import napari\n",
    "import os\n",
    "from plotly import express as px\n",
    "import plotly.io as pio\n",
    "import kaleido\n",
    "import skimage\n",
    "import time\n",
    "from os.path import abspath\n",
    "def get_datetime():\n",
    "    return time.strftime(\"%Y%m%d_%H%M%S\")\n",
    "\n",
    "import loguru\n",
    "from loguru import logger\n",
    "\n"
   ]
  },
  {
   "cell_type": "code",
   "execution_count": 2,
   "metadata": {},
   "outputs": [
    {
     "data": {
      "text/plain": [
       "2"
      ]
     },
     "execution_count": 2,
     "metadata": {},
     "output_type": "execute_result"
    }
   ],
   "source": [
    "logger.remove()\n",
    "logger.add(sys.stderr,                      format=\"<green>{time:HH:mm:ss.SS}</green> | <level>{level}</level> | {message}\")\n",
    "logger.add(f\"../logs/{get_datetime()}_ashlar.log\",  format=\"{time:YYYYMMDD HHmmss} | <level>{level}</level> | {message}\")\n",
    "\n",
    "#example logging usage\n",
    "# logger.debug(\"That's it, folks!\")\n",
    "# logger.info(\"I'm sorry, Dave. I'm afraid I can't do that.\")\n",
    "# logger.warning(\"I am warning you\")\n",
    "# logger.error(\"I am error\")\n",
    "# logger.critical(\"I am critical\")"
   ]
  },
  {
   "cell_type": "code",
   "execution_count": 3,
   "metadata": {},
   "outputs": [],
   "source": [
    "fileseries_params = {\n",
    "    'overlap': 0.5,\n",
    "    'width': 9,\n",
    "    'height': 9,\n",
    "    'layout': 'snake',\n",
    "    'direction': 'horizontal',\n",
    "    'pixel_size': 0.17,\n",
    "}"
   ]
  },
  {
   "cell_type": "markdown",
   "metadata": {},
   "source": [
    "## Step 1.1: Load files function"
   ]
  },
  {
   "cell_type": "code",
   "execution_count": 4,
   "metadata": {},
   "outputs": [],
   "source": [
    "def load_images(path_to_images, series:bool=False, fileseries_pattern:str=None, cycle_ids:list=None, fileseries_kwargs:dict=None) -> list:\n",
    "    \"\"\"\n",
    "    Parameters:\n",
    "    path_to_images: str\n",
    "        Path to the images to be loaded\n",
    "    series: bool\n",
    "        If True, load images as a fileseries\n",
    "    fileseries_pattern: str\n",
    "        The fileseries pattern to use when loading images\n",
    "        examples:\n",
    "        'cycle{i}_core0001_tile{{series}}.nd2' <- Double curly braces are used to escape the format string\n",
    "    \"\"\"\n",
    "    logger.info(f\"Loading images from {path_to_images}\")\n",
    "\n",
    "    readers = []\n",
    "\n",
    "    if series:\n",
    "        logger.info(\"Loading images as a fileseries\")\n",
    "        assert fileseries_pattern is not None, \"Please provide a fileseries string\"\n",
    "        assert cycle_ids is not None, \"Please provide a list of cycle ids\"\n",
    "        \n",
    "        logger.info(f\"Cycle {cycle_ids[0]} will be reference cycle\")\n",
    "        logger.info(f\"Cycles {cycle_ids[1:]} will be aligned to reference cycle\")\n",
    "        for cycle_id in cycle_ids:\n",
    "            logger.info(f\"Loading cycle {cycle_id}\")\n",
    "            readers.append(\n",
    "                fileseries.FileSeriesReader(\n",
    "                    path_to_images,\n",
    "                    pattern=fileseries_pattern.format(i=cycle_id),\n",
    "                    overlap=fileseries_kwargs['overlap'],\n",
    "                    width=fileseries_kwargs['width'],\n",
    "                    height=fileseries_kwargs['height'],\n",
    "                    layout=fileseries_kwargs['layout'],\n",
    "                    direction=fileseries_kwargs['direction'],\n",
    "                    pixel_size=fileseries_kwargs['pixel_size'],\n",
    "                )\n",
    "            )\n",
    "\n",
    "    else:\n",
    "        #TODO natural sorting of files\n",
    "        logger.info(\"Loading each image as a cycle\")\n",
    "        #list of all files with absolute paths in the directory\n",
    "        list_of_images = os.listdir(path_to_images)\n",
    "        list_of_images = [abspath(os.path.join(path_to_images, f)) for f in list_of_images if os.path.isfile(os.path.join(path_to_images, f))]\n",
    "        logger.info(f\"Found {len(list_of_images)} images in {path_to_images}\")\n",
    "\n",
    "        for i, path_to_cycle in enumerate(list_of_images):\n",
    "            logger.info(f\"Loading cycle {i} from file: {path_to_cycle}\")\n",
    "            readers.append(BioformatsReader(path_to_cycle))\n",
    "\n",
    "    logger.success(\"Images loaded successfully\")\n",
    "    return readers"
   ]
  },
  {
   "cell_type": "markdown",
   "metadata": {},
   "source": [
    " ## Step 1.2: Load files tests "
   ]
  },
  {
   "cell_type": "code",
   "execution_count": 5,
   "metadata": {},
   "outputs": [
    {
     "name": "stderr",
     "output_type": "stream",
     "text": [
      "\u001b[32m11:16:43.55\u001b[0m | \u001b[1mINFO\u001b[0m | Loading images from /Users/jnimoca/Jose_BI/data/raw/raw_cycles\n",
      "\u001b[32m11:16:43.55\u001b[0m | \u001b[1mINFO\u001b[0m | Loading each image as a cycle\n",
      "\u001b[32m11:16:43.55\u001b[0m | \u001b[1mINFO\u001b[0m | Found 3 images in /Users/jnimoca/Jose_BI/data/raw/raw_cycles\n",
      "\u001b[32m11:16:43.55\u001b[0m | \u001b[1mINFO\u001b[0m | Loading cycle 0 from file: /Users/jnimoca/Jose_BI/data/raw/raw_cycles/exemplar-001-cycle-08.ome.tiff\n",
      "\u001b[32m11:16:44.09\u001b[0m | \u001b[1mINFO\u001b[0m | Loading cycle 1 from file: /Users/jnimoca/Jose_BI/data/raw/raw_cycles/exemplar-001-cycle-07.ome.tiff\n",
      "\u001b[32m11:16:44.13\u001b[0m | \u001b[1mINFO\u001b[0m | Loading cycle 2 from file: /Users/jnimoca/Jose_BI/data/raw/raw_cycles/exemplar-001-cycle-06.ome.tiff\n",
      "\u001b[32m11:16:44.16\u001b[0m | \u001b[32m\u001b[1mSUCCESS\u001b[0m | Images loaded successfully\n"
     ]
    }
   ],
   "source": [
    "readers = load_images(path_to_images=\"/Users/jnimoca/Jose_BI/data/raw/raw_cycles\")"
   ]
  },
  {
   "cell_type": "code",
   "execution_count": 16,
   "metadata": {},
   "outputs": [
    {
     "name": "stderr",
     "output_type": "stream",
     "text": [
      "\u001b[32m11:18:05.52\u001b[0m | \u001b[1mINFO\u001b[0m | Loading images from /Users/jnimoca/Jose_BI/data/raw/raw_fileseries\n",
      "\u001b[32m11:18:05.52\u001b[0m | \u001b[1mINFO\u001b[0m | Loading images as a fileseries\n",
      "\u001b[32m11:18:05.52\u001b[0m | \u001b[1mINFO\u001b[0m | Cycle 0000 will be reference cycle\n",
      "\u001b[32m11:18:05.52\u001b[0m | \u001b[1mINFO\u001b[0m | Cycles ['0001'] will be aligned to reference cycle\n",
      "\u001b[32m11:18:05.52\u001b[0m | \u001b[1mINFO\u001b[0m | Loading cycle 0000\n",
      "\u001b[32m11:18:06.01\u001b[0m | \u001b[1mINFO\u001b[0m | Loading cycle 0001\n",
      "\u001b[32m11:18:06.25\u001b[0m | \u001b[32m\u001b[1mSUCCESS\u001b[0m | Images loaded successfully\n"
     ]
    }
   ],
   "source": [
    "readers_fileseries = load_images(\n",
    "    path_to_images=\"/Users/jnimoca/Jose_BI/data/raw/raw_fileseries\", \n",
    "    series=True, \n",
    "    fileseries_pattern='cycle{i}_core0001_tile{{series}}.nd2', \n",
    "    cycle_ids=[\"0000\", \"0001\"], \n",
    "    fileseries_kwargs=fileseries_params)"
   ]
  },
  {
   "cell_type": "markdown",
   "metadata": {},
   "source": [
    "## Step 2.1: Perform alignment to each cycle"
   ]
  },
  {
   "cell_type": "code",
   "execution_count": 6,
   "metadata": {},
   "outputs": [],
   "source": [
    "def align_cycles(readers, channel:int=0, max_shift:int=15, filter_sigma:int=0, save_path:str=None):\n",
    "    \"\"\"\n",
    "    Align cycles and return a list of aligners and a DataFrame.\n",
    "\n",
    "    Parameters:\n",
    "        readers (list): List of BioformatsReader or FileSeriesReader objects.\n",
    "        channel (int): Channel number.\n",
    "        max_shift (int): Maximum shift allowed.\n",
    "        filter_sigma (int): Sigma value for filtering.\n",
    "\n",
    "    Returns:\n",
    "        tuple: A list of aligners and a DataFrame with alignment data.\n",
    "    \"\"\"\n",
    "\n",
    "    logger.info(\"Aligning cycles\")\n",
    "    \n",
    "    aligners = []\n",
    "    df = pd.DataFrame(columns=[\"edge_id\", \"cycle_id\", \"X_Error\", \"Y_Shift\"])\n",
    "\n",
    "    for i, reader in enumerate(readers):\n",
    "        logger.info(f\"Aligning cycle {i}\")\n",
    "        aligner = reg.EdgeAligner(reader, channel=channel, max_shift=max_shift, filter_sigma=filter_sigma)\n",
    "        aligner.run()\n",
    "        logger.debug(f\"Cycle {i} aligned successfully\")\n",
    "        \n",
    "        #append values to dataframe\n",
    "        tmp_df = pd.DataFrame(\n",
    "            data = {\n",
    "                \"edge_id\": np.array([f\"({x[0]},{x[1]})\" for x in np.array(aligner.neighbors_graph.edges)]).ravel(),\n",
    "                \"cycle_id\": f\"cycle_{str(i).zfill(2)}\",\n",
    "                'X_Error': np.clip(aligner.all_errors, 0, 10),\n",
    "                'Y_Shift': np.clip([np.linalg.norm(v[0]) for v in aligner._cache.values()], 0.01, np.inf)\n",
    "            }\n",
    "        )\n",
    "\n",
    "        logger.debug(f\"tmp.df shape {tmp_df.shape} rows to dataframe\")\n",
    "        df = pd.concat([df, tmp_df], ignore_index=True)\n",
    "        aligners.append(aligner)\n",
    "\n",
    "    if save_path is not None:\n",
    "        logger.info(f\"Saving alignment data to {save_path}\")\n",
    "        df.to_csv(save_path, index=False)\n",
    "    \n",
    "    logger.success(\"Finished aligning cycles\")\n",
    "    return aligners, df"
   ]
  },
  {
   "cell_type": "markdown",
   "metadata": {},
   "source": [
    "## Step 2.2 Test Alignment Cycles"
   ]
  },
  {
   "cell_type": "code",
   "execution_count": 7,
   "metadata": {},
   "outputs": [
    {
     "name": "stderr",
     "output_type": "stream",
     "text": [
      "\u001b[32m11:16:55.88\u001b[0m | \u001b[1mINFO\u001b[0m | Aligning cycles\n",
      "\u001b[32m11:16:55.88\u001b[0m | \u001b[1mINFO\u001b[0m | Aligning cycle 0\n"
     ]
    },
    {
     "name": "stdout",
     "output_type": "stream",
     "text": [
      "    assembling thumbnail 6/6"
     ]
    },
    {
     "name": "stderr",
     "output_type": "stream",
     "text": [
      "/opt/homebrew/Caskroom/mambaforge/base/envs/ashlar/lib/python3.10/site-packages/ashlar/reg.py:1367: DataWarning: Stage coordinates' measurement unit is undefined; assuming μm.\n",
      "  warnings.warn(message, DataWarning)\n"
     ]
    },
    {
     "name": "stdout",
     "output_type": "stream",
     "text": [
      "\n"
     ]
    },
    {
     "name": "stderr",
     "output_type": "stream",
     "text": [
      "\u001b[32m11:16:56.52\u001b[0m | \u001b[34m\u001b[1mDEBUG\u001b[0m | Cycle 0 aligned successfully\n",
      "\u001b[32m11:16:56.52\u001b[0m | \u001b[34m\u001b[1mDEBUG\u001b[0m | tmp.df shape (7, 4) rows to dataframe\n",
      "/var/folders/x7/grkjlk8s223dy6234rnz1885mxz2_6/T/ipykernel_52928/1759171934.py:37: FutureWarning: The behavior of DataFrame concatenation with empty or all-NA entries is deprecated. In a future version, this will no longer exclude empty or all-NA columns when determining the result dtypes. To retain the old behavior, exclude the relevant entries before the concat operation.\n",
      "  df = pd.concat([df, tmp_df], ignore_index=True)\n",
      "\u001b[32m11:16:56.52\u001b[0m | \u001b[1mINFO\u001b[0m | Aligning cycle 1\n"
     ]
    },
    {
     "name": "stdout",
     "output_type": "stream",
     "text": [
      "    assembling thumbnail 6/6"
     ]
    },
    {
     "name": "stderr",
     "output_type": "stream",
     "text": [
      "/opt/homebrew/Caskroom/mambaforge/base/envs/ashlar/lib/python3.10/site-packages/ashlar/reg.py:1367: DataWarning: Stage coordinates' measurement unit is undefined; assuming μm.\n",
      "  warnings.warn(message, DataWarning)\n"
     ]
    },
    {
     "name": "stdout",
     "output_type": "stream",
     "text": [
      "\n"
     ]
    },
    {
     "name": "stderr",
     "output_type": "stream",
     "text": [
      "\u001b[32m11:16:57.11\u001b[0m | \u001b[34m\u001b[1mDEBUG\u001b[0m | Cycle 1 aligned successfully\n",
      "\u001b[32m11:16:57.11\u001b[0m | \u001b[34m\u001b[1mDEBUG\u001b[0m | tmp.df shape (7, 4) rows to dataframe\n",
      "\u001b[32m11:16:57.11\u001b[0m | \u001b[1mINFO\u001b[0m | Aligning cycle 2\n"
     ]
    },
    {
     "name": "stdout",
     "output_type": "stream",
     "text": [
      "    assembling thumbnail 6/6"
     ]
    },
    {
     "name": "stderr",
     "output_type": "stream",
     "text": [
      "/opt/homebrew/Caskroom/mambaforge/base/envs/ashlar/lib/python3.10/site-packages/ashlar/reg.py:1367: DataWarning: Stage coordinates' measurement unit is undefined; assuming μm.\n",
      "  warnings.warn(message, DataWarning)\n"
     ]
    },
    {
     "name": "stdout",
     "output_type": "stream",
     "text": [
      "\n"
     ]
    },
    {
     "name": "stderr",
     "output_type": "stream",
     "text": [
      "\u001b[32m11:16:57.74\u001b[0m | \u001b[34m\u001b[1mDEBUG\u001b[0m | Cycle 2 aligned successfully\n",
      "\u001b[32m11:16:57.74\u001b[0m | \u001b[34m\u001b[1mDEBUG\u001b[0m | tmp.df shape (7, 4) rows to dataframe\n",
      "\u001b[32m11:16:57.74\u001b[0m | \u001b[32m\u001b[1mSUCCESS\u001b[0m | Finished aligning cycles\n"
     ]
    }
   ],
   "source": [
    "aligners, df = align_cycles(readers, channel=0, max_shift=30, filter_sigma=1)"
   ]
  },
  {
   "cell_type": "code",
   "execution_count": 113,
   "metadata": {},
   "outputs": [
    {
     "name": "stderr",
     "output_type": "stream",
     "text": [
      "\u001b[32m13:07:32.84\u001b[0m | \u001b[1mINFO\u001b[0m | Aligning cycles\n",
      "\u001b[32m13:07:32.85\u001b[0m | \u001b[1mINFO\u001b[0m | Aligning cycle 0\n"
     ]
    },
    {
     "name": "stdout",
     "output_type": "stream",
     "text": [
      "    assembling thumbnail 81/81\n"
     ]
    },
    {
     "name": "stderr",
     "output_type": "stream",
     "text": [
      "/opt/homebrew/Caskroom/mambaforge/base/envs/ashlar/lib/python3.10/site-packages/ashlar/reg.py:1367: DataWarning:\n",
      "\n",
      "Some neighboring tiles have zero overlap.\n",
      "\n",
      "\u001b[32m13:11:43.58\u001b[0m | \u001b[34m\u001b[1mDEBUG\u001b[0m | Cycle 0 aligned successfully\n",
      "\u001b[32m13:11:43.59\u001b[0m | \u001b[34m\u001b[1mDEBUG\u001b[0m | tmp.df shape (398, 4) rows to dataframe\n",
      "/var/folders/x7/grkjlk8s223dy6234rnz1885mxz2_6/T/ipykernel_52928/1759171934.py:37: FutureWarning:\n",
      "\n",
      "The behavior of DataFrame concatenation with empty or all-NA entries is deprecated. In a future version, this will no longer exclude empty or all-NA columns when determining the result dtypes. To retain the old behavior, exclude the relevant entries before the concat operation.\n",
      "\n",
      "\u001b[32m13:11:43.59\u001b[0m | \u001b[1mINFO\u001b[0m | Aligning cycle 1\n"
     ]
    },
    {
     "name": "stdout",
     "output_type": "stream",
     "text": [
      "    assembling thumbnail 81/81\n"
     ]
    },
    {
     "name": "stderr",
     "output_type": "stream",
     "text": [
      "/opt/homebrew/Caskroom/mambaforge/base/envs/ashlar/lib/python3.10/site-packages/ashlar/reg.py:1367: DataWarning:\n",
      "\n",
      "Some neighboring tiles have zero overlap.\n",
      "\n",
      "\u001b[32m13:16:09.78\u001b[0m | \u001b[34m\u001b[1mDEBUG\u001b[0m | Cycle 1 aligned successfully\n",
      "\u001b[32m13:16:09.80\u001b[0m | \u001b[34m\u001b[1mDEBUG\u001b[0m | tmp.df shape (398, 4) rows to dataframe\n",
      "\u001b[32m13:16:09.80\u001b[0m | \u001b[32m\u001b[1mSUCCESS\u001b[0m | Finished aligning cycles\n"
     ]
    }
   ],
   "source": [
    "aligners_fileseries, df_fileseries = align_cycles(readers_fileseries, channel=0, max_shift=30, filter_sigma=1) \n",
    "#5m42s with max15\n",
    "#8m37s with max30"
   ]
  },
  {
   "cell_type": "markdown",
   "metadata": {},
   "source": [
    "## Step 3 Plot Aligners"
   ]
  },
  {
   "cell_type": "code",
   "execution_count": 8,
   "metadata": {},
   "outputs": [],
   "source": [
    "def plot_scatter_shift_error(df:pd.DataFrame, save_path:str=None):\n",
    "\n",
    "    fig = px.scatter(df, x='X_Error', y='Y_Shift', color='cycle_id', hover_data=['edge_id'])\n",
    "\n",
    "    fig.update_layout(\n",
    "        title='Error vs Shift', \n",
    "        height=800,width=1200,\n",
    "        paper_bgcolor=\"white\", plot_bgcolor=\"white\",\n",
    "        uniformtext_minsize=12, uniformtext_mode='hide')\n",
    "\n",
    "    fig.update_yaxes(\n",
    "        type=\"log\", nticks=7, \n",
    "        showline=True, linecolor=\"black\", mirror=True,\n",
    "        title=dict(\n",
    "            text='Shift distance (pixels)',\n",
    "            font=dict(\n",
    "                family='Arial',\n",
    "                size=18,\n",
    "                color='black')))\n",
    "\n",
    "    fig.update_xaxes(\n",
    "        showline=True, linecolor=\"black\", mirror=True,\n",
    "        title=dict(\n",
    "            text='Error (NCC)', \n",
    "            font=dict(\n",
    "                family='Arial',\n",
    "                size=18,\n",
    "                color='black')))\n",
    "\n",
    "    fig.update_traces(\n",
    "        marker=dict(\n",
    "            size=8, \n",
    "            opacity=0.6, \n",
    "            line=dict(\n",
    "                width=1, \n",
    "                color='DarkSlateGrey')))\n",
    "    \n",
    "    if save_path is not None:\n",
    "        logger.info(f\"Saving scatter plot to {save_path}\")\n",
    "        fig.write_image(save_path.rsplit(\".\", 1)[0] + \".png\")\n",
    "        fig.write_html(save_path)\n",
    "\n",
    "    return fig"
   ]
  },
  {
   "cell_type": "code",
   "execution_count": 114,
   "metadata": {},
   "outputs": [
    {
     "name": "stderr",
     "output_type": "stream",
     "text": [
      "\u001b[32m13:16:09.97\u001b[0m | \u001b[1mINFO\u001b[0m | Saving scatter plot to ../figures/scatter_shift_error.html\n"
     ]
    },
    {
     "data": {
      "application/vnd.plotly.v1+json": {
       "config": {
        "plotlyServerURL": "https://plot.ly"
       },
       "data": [
        {
         "customdata": [
          [
           "(0,1)"
          ],
          [
           "(0,2)"
          ],
          [
           "(1,3)"
          ],
          [
           "(2,3)"
          ],
          [
           "(2,4)"
          ],
          [
           "(3,5)"
          ],
          [
           "(4,5)"
          ]
         ],
         "hovertemplate": "cycle_id=cycle_00<br>X_Error=%{x}<br>Y_Shift=%{y}<br>edge_id=%{customdata[0]}<extra></extra>",
         "legendgroup": "cycle_00",
         "marker": {
          "color": "#636efa",
          "line": {
           "color": "DarkSlateGrey",
           "width": 1
          },
          "opacity": 0.6,
          "size": 8,
          "symbol": "circle"
         },
         "mode": "markers",
         "name": "cycle_00",
         "orientation": "v",
         "showlegend": true,
         "type": "scatter",
         "x": [
          0.21633370220661163,
          0.31219685077667236,
          0.3263408839702606,
          0.22850456833839417,
          0.16824990510940552,
          0.17008766531944275,
          0.2453809231519699
         ],
         "xaxis": "x",
         "y": [
          29.200684732763992,
          24.8032255491026,
          24.72448184306453,
          28.501578903758165,
          28.914010539344453,
          29.083328561390772,
          25.100796704761127
         ],
         "yaxis": "y"
        },
        {
         "customdata": [
          [
           "(0,1)"
          ],
          [
           "(0,2)"
          ],
          [
           "(1,3)"
          ],
          [
           "(2,3)"
          ],
          [
           "(2,4)"
          ],
          [
           "(3,5)"
          ],
          [
           "(4,5)"
          ]
         ],
         "hovertemplate": "cycle_id=cycle_01<br>X_Error=%{x}<br>Y_Shift=%{y}<br>edge_id=%{customdata[0]}<extra></extra>",
         "legendgroup": "cycle_01",
         "marker": {
          "color": "#EF553B",
          "line": {
           "color": "DarkSlateGrey",
           "width": 1
          },
          "opacity": 0.6,
          "size": 8,
          "symbol": "circle"
         },
         "mode": "markers",
         "name": "cycle_01",
         "orientation": "v",
         "showlegend": true,
         "type": "scatter",
         "x": [
          0.275491863489151,
          0.2254069745540619,
          0.27157336473464966,
          0.16740818321704865,
          0.16219863295555115,
          0.206581711769104,
          0.23692522943019867
         ],
         "xaxis": "x",
         "y": [
          28.701567710823245,
          26.10076617693458,
          26.10478873735277,
          27.900716932055612,
          29.406121907456875,
          29.620432042877095,
          27.90017930626613
         ],
         "yaxis": "y"
        },
        {
         "customdata": [
          [
           "(0,1)"
          ],
          [
           "(0,2)"
          ],
          [
           "(1,3)"
          ],
          [
           "(2,3)"
          ],
          [
           "(2,4)"
          ],
          [
           "(3,5)"
          ],
          [
           "(4,5)"
          ]
         ],
         "hovertemplate": "cycle_id=cycle_02<br>X_Error=%{x}<br>Y_Shift=%{y}<br>edge_id=%{customdata[0]}<extra></extra>",
         "legendgroup": "cycle_02",
         "marker": {
          "color": "#00cc96",
          "line": {
           "color": "DarkSlateGrey",
           "width": 1
          },
          "opacity": 0.6,
          "size": 8,
          "symbol": "circle"
         },
         "mode": "markers",
         "name": "cycle_02",
         "orientation": "v",
         "showlegend": true,
         "type": "scatter",
         "x": [
          0.1733594387769699,
          0.3187382221221924,
          0.19325943291187286,
          0.14807257056236267,
          0.12897776067256927,
          0.1165674552321434,
          0.12054428458213806
         ],
         "xaxis": "x",
         "y": [
          30.20148983886005,
          25.528219681647226,
          25.4332460515894,
          27.700721821542498,
          31.0014515790334,
          31.13149568621238,
          26.40170458592689
         ],
         "yaxis": "y"
        }
       ],
       "layout": {
        "height": 800,
        "legend": {
         "title": {
          "text": "cycle_id"
         },
         "tracegroupgap": 0
        },
        "margin": {
         "t": 60
        },
        "paper_bgcolor": "white",
        "plot_bgcolor": "white",
        "template": {
         "data": {
          "bar": [
           {
            "error_x": {
             "color": "#2a3f5f"
            },
            "error_y": {
             "color": "#2a3f5f"
            },
            "marker": {
             "line": {
              "color": "#E5ECF6",
              "width": 0.5
             },
             "pattern": {
              "fillmode": "overlay",
              "size": 10,
              "solidity": 0.2
             }
            },
            "type": "bar"
           }
          ],
          "barpolar": [
           {
            "marker": {
             "line": {
              "color": "#E5ECF6",
              "width": 0.5
             },
             "pattern": {
              "fillmode": "overlay",
              "size": 10,
              "solidity": 0.2
             }
            },
            "type": "barpolar"
           }
          ],
          "carpet": [
           {
            "aaxis": {
             "endlinecolor": "#2a3f5f",
             "gridcolor": "white",
             "linecolor": "white",
             "minorgridcolor": "white",
             "startlinecolor": "#2a3f5f"
            },
            "baxis": {
             "endlinecolor": "#2a3f5f",
             "gridcolor": "white",
             "linecolor": "white",
             "minorgridcolor": "white",
             "startlinecolor": "#2a3f5f"
            },
            "type": "carpet"
           }
          ],
          "choropleth": [
           {
            "colorbar": {
             "outlinewidth": 0,
             "ticks": ""
            },
            "type": "choropleth"
           }
          ],
          "contour": [
           {
            "colorbar": {
             "outlinewidth": 0,
             "ticks": ""
            },
            "colorscale": [
             [
              0,
              "#0d0887"
             ],
             [
              0.1111111111111111,
              "#46039f"
             ],
             [
              0.2222222222222222,
              "#7201a8"
             ],
             [
              0.3333333333333333,
              "#9c179e"
             ],
             [
              0.4444444444444444,
              "#bd3786"
             ],
             [
              0.5555555555555556,
              "#d8576b"
             ],
             [
              0.6666666666666666,
              "#ed7953"
             ],
             [
              0.7777777777777778,
              "#fb9f3a"
             ],
             [
              0.8888888888888888,
              "#fdca26"
             ],
             [
              1,
              "#f0f921"
             ]
            ],
            "type": "contour"
           }
          ],
          "contourcarpet": [
           {
            "colorbar": {
             "outlinewidth": 0,
             "ticks": ""
            },
            "type": "contourcarpet"
           }
          ],
          "heatmap": [
           {
            "colorbar": {
             "outlinewidth": 0,
             "ticks": ""
            },
            "colorscale": [
             [
              0,
              "#0d0887"
             ],
             [
              0.1111111111111111,
              "#46039f"
             ],
             [
              0.2222222222222222,
              "#7201a8"
             ],
             [
              0.3333333333333333,
              "#9c179e"
             ],
             [
              0.4444444444444444,
              "#bd3786"
             ],
             [
              0.5555555555555556,
              "#d8576b"
             ],
             [
              0.6666666666666666,
              "#ed7953"
             ],
             [
              0.7777777777777778,
              "#fb9f3a"
             ],
             [
              0.8888888888888888,
              "#fdca26"
             ],
             [
              1,
              "#f0f921"
             ]
            ],
            "type": "heatmap"
           }
          ],
          "heatmapgl": [
           {
            "colorbar": {
             "outlinewidth": 0,
             "ticks": ""
            },
            "colorscale": [
             [
              0,
              "#0d0887"
             ],
             [
              0.1111111111111111,
              "#46039f"
             ],
             [
              0.2222222222222222,
              "#7201a8"
             ],
             [
              0.3333333333333333,
              "#9c179e"
             ],
             [
              0.4444444444444444,
              "#bd3786"
             ],
             [
              0.5555555555555556,
              "#d8576b"
             ],
             [
              0.6666666666666666,
              "#ed7953"
             ],
             [
              0.7777777777777778,
              "#fb9f3a"
             ],
             [
              0.8888888888888888,
              "#fdca26"
             ],
             [
              1,
              "#f0f921"
             ]
            ],
            "type": "heatmapgl"
           }
          ],
          "histogram": [
           {
            "marker": {
             "pattern": {
              "fillmode": "overlay",
              "size": 10,
              "solidity": 0.2
             }
            },
            "type": "histogram"
           }
          ],
          "histogram2d": [
           {
            "colorbar": {
             "outlinewidth": 0,
             "ticks": ""
            },
            "colorscale": [
             [
              0,
              "#0d0887"
             ],
             [
              0.1111111111111111,
              "#46039f"
             ],
             [
              0.2222222222222222,
              "#7201a8"
             ],
             [
              0.3333333333333333,
              "#9c179e"
             ],
             [
              0.4444444444444444,
              "#bd3786"
             ],
             [
              0.5555555555555556,
              "#d8576b"
             ],
             [
              0.6666666666666666,
              "#ed7953"
             ],
             [
              0.7777777777777778,
              "#fb9f3a"
             ],
             [
              0.8888888888888888,
              "#fdca26"
             ],
             [
              1,
              "#f0f921"
             ]
            ],
            "type": "histogram2d"
           }
          ],
          "histogram2dcontour": [
           {
            "colorbar": {
             "outlinewidth": 0,
             "ticks": ""
            },
            "colorscale": [
             [
              0,
              "#0d0887"
             ],
             [
              0.1111111111111111,
              "#46039f"
             ],
             [
              0.2222222222222222,
              "#7201a8"
             ],
             [
              0.3333333333333333,
              "#9c179e"
             ],
             [
              0.4444444444444444,
              "#bd3786"
             ],
             [
              0.5555555555555556,
              "#d8576b"
             ],
             [
              0.6666666666666666,
              "#ed7953"
             ],
             [
              0.7777777777777778,
              "#fb9f3a"
             ],
             [
              0.8888888888888888,
              "#fdca26"
             ],
             [
              1,
              "#f0f921"
             ]
            ],
            "type": "histogram2dcontour"
           }
          ],
          "mesh3d": [
           {
            "colorbar": {
             "outlinewidth": 0,
             "ticks": ""
            },
            "type": "mesh3d"
           }
          ],
          "parcoords": [
           {
            "line": {
             "colorbar": {
              "outlinewidth": 0,
              "ticks": ""
             }
            },
            "type": "parcoords"
           }
          ],
          "pie": [
           {
            "automargin": true,
            "type": "pie"
           }
          ],
          "scatter": [
           {
            "fillpattern": {
             "fillmode": "overlay",
             "size": 10,
             "solidity": 0.2
            },
            "type": "scatter"
           }
          ],
          "scatter3d": [
           {
            "line": {
             "colorbar": {
              "outlinewidth": 0,
              "ticks": ""
             }
            },
            "marker": {
             "colorbar": {
              "outlinewidth": 0,
              "ticks": ""
             }
            },
            "type": "scatter3d"
           }
          ],
          "scattercarpet": [
           {
            "marker": {
             "colorbar": {
              "outlinewidth": 0,
              "ticks": ""
             }
            },
            "type": "scattercarpet"
           }
          ],
          "scattergeo": [
           {
            "marker": {
             "colorbar": {
              "outlinewidth": 0,
              "ticks": ""
             }
            },
            "type": "scattergeo"
           }
          ],
          "scattergl": [
           {
            "marker": {
             "colorbar": {
              "outlinewidth": 0,
              "ticks": ""
             }
            },
            "type": "scattergl"
           }
          ],
          "scattermapbox": [
           {
            "marker": {
             "colorbar": {
              "outlinewidth": 0,
              "ticks": ""
             }
            },
            "type": "scattermapbox"
           }
          ],
          "scatterpolar": [
           {
            "marker": {
             "colorbar": {
              "outlinewidth": 0,
              "ticks": ""
             }
            },
            "type": "scatterpolar"
           }
          ],
          "scatterpolargl": [
           {
            "marker": {
             "colorbar": {
              "outlinewidth": 0,
              "ticks": ""
             }
            },
            "type": "scatterpolargl"
           }
          ],
          "scatterternary": [
           {
            "marker": {
             "colorbar": {
              "outlinewidth": 0,
              "ticks": ""
             }
            },
            "type": "scatterternary"
           }
          ],
          "surface": [
           {
            "colorbar": {
             "outlinewidth": 0,
             "ticks": ""
            },
            "colorscale": [
             [
              0,
              "#0d0887"
             ],
             [
              0.1111111111111111,
              "#46039f"
             ],
             [
              0.2222222222222222,
              "#7201a8"
             ],
             [
              0.3333333333333333,
              "#9c179e"
             ],
             [
              0.4444444444444444,
              "#bd3786"
             ],
             [
              0.5555555555555556,
              "#d8576b"
             ],
             [
              0.6666666666666666,
              "#ed7953"
             ],
             [
              0.7777777777777778,
              "#fb9f3a"
             ],
             [
              0.8888888888888888,
              "#fdca26"
             ],
             [
              1,
              "#f0f921"
             ]
            ],
            "type": "surface"
           }
          ],
          "table": [
           {
            "cells": {
             "fill": {
              "color": "#EBF0F8"
             },
             "line": {
              "color": "white"
             }
            },
            "header": {
             "fill": {
              "color": "#C8D4E3"
             },
             "line": {
              "color": "white"
             }
            },
            "type": "table"
           }
          ]
         },
         "layout": {
          "annotationdefaults": {
           "arrowcolor": "#2a3f5f",
           "arrowhead": 0,
           "arrowwidth": 1
          },
          "autotypenumbers": "strict",
          "coloraxis": {
           "colorbar": {
            "outlinewidth": 0,
            "ticks": ""
           }
          },
          "colorscale": {
           "diverging": [
            [
             0,
             "#8e0152"
            ],
            [
             0.1,
             "#c51b7d"
            ],
            [
             0.2,
             "#de77ae"
            ],
            [
             0.3,
             "#f1b6da"
            ],
            [
             0.4,
             "#fde0ef"
            ],
            [
             0.5,
             "#f7f7f7"
            ],
            [
             0.6,
             "#e6f5d0"
            ],
            [
             0.7,
             "#b8e186"
            ],
            [
             0.8,
             "#7fbc41"
            ],
            [
             0.9,
             "#4d9221"
            ],
            [
             1,
             "#276419"
            ]
           ],
           "sequential": [
            [
             0,
             "#0d0887"
            ],
            [
             0.1111111111111111,
             "#46039f"
            ],
            [
             0.2222222222222222,
             "#7201a8"
            ],
            [
             0.3333333333333333,
             "#9c179e"
            ],
            [
             0.4444444444444444,
             "#bd3786"
            ],
            [
             0.5555555555555556,
             "#d8576b"
            ],
            [
             0.6666666666666666,
             "#ed7953"
            ],
            [
             0.7777777777777778,
             "#fb9f3a"
            ],
            [
             0.8888888888888888,
             "#fdca26"
            ],
            [
             1,
             "#f0f921"
            ]
           ],
           "sequentialminus": [
            [
             0,
             "#0d0887"
            ],
            [
             0.1111111111111111,
             "#46039f"
            ],
            [
             0.2222222222222222,
             "#7201a8"
            ],
            [
             0.3333333333333333,
             "#9c179e"
            ],
            [
             0.4444444444444444,
             "#bd3786"
            ],
            [
             0.5555555555555556,
             "#d8576b"
            ],
            [
             0.6666666666666666,
             "#ed7953"
            ],
            [
             0.7777777777777778,
             "#fb9f3a"
            ],
            [
             0.8888888888888888,
             "#fdca26"
            ],
            [
             1,
             "#f0f921"
            ]
           ]
          },
          "colorway": [
           "#636efa",
           "#EF553B",
           "#00cc96",
           "#ab63fa",
           "#FFA15A",
           "#19d3f3",
           "#FF6692",
           "#B6E880",
           "#FF97FF",
           "#FECB52"
          ],
          "font": {
           "color": "#2a3f5f"
          },
          "geo": {
           "bgcolor": "white",
           "lakecolor": "white",
           "landcolor": "#E5ECF6",
           "showlakes": true,
           "showland": true,
           "subunitcolor": "white"
          },
          "hoverlabel": {
           "align": "left"
          },
          "hovermode": "closest",
          "mapbox": {
           "style": "light"
          },
          "paper_bgcolor": "white",
          "plot_bgcolor": "#E5ECF6",
          "polar": {
           "angularaxis": {
            "gridcolor": "white",
            "linecolor": "white",
            "ticks": ""
           },
           "bgcolor": "#E5ECF6",
           "radialaxis": {
            "gridcolor": "white",
            "linecolor": "white",
            "ticks": ""
           }
          },
          "scene": {
           "xaxis": {
            "backgroundcolor": "#E5ECF6",
            "gridcolor": "white",
            "gridwidth": 2,
            "linecolor": "white",
            "showbackground": true,
            "ticks": "",
            "zerolinecolor": "white"
           },
           "yaxis": {
            "backgroundcolor": "#E5ECF6",
            "gridcolor": "white",
            "gridwidth": 2,
            "linecolor": "white",
            "showbackground": true,
            "ticks": "",
            "zerolinecolor": "white"
           },
           "zaxis": {
            "backgroundcolor": "#E5ECF6",
            "gridcolor": "white",
            "gridwidth": 2,
            "linecolor": "white",
            "showbackground": true,
            "ticks": "",
            "zerolinecolor": "white"
           }
          },
          "shapedefaults": {
           "line": {
            "color": "#2a3f5f"
           }
          },
          "ternary": {
           "aaxis": {
            "gridcolor": "white",
            "linecolor": "white",
            "ticks": ""
           },
           "baxis": {
            "gridcolor": "white",
            "linecolor": "white",
            "ticks": ""
           },
           "bgcolor": "#E5ECF6",
           "caxis": {
            "gridcolor": "white",
            "linecolor": "white",
            "ticks": ""
           }
          },
          "title": {
           "x": 0.05
          },
          "xaxis": {
           "automargin": true,
           "gridcolor": "white",
           "linecolor": "white",
           "ticks": "",
           "title": {
            "standoff": 15
           },
           "zerolinecolor": "white",
           "zerolinewidth": 2
          },
          "yaxis": {
           "automargin": true,
           "gridcolor": "white",
           "linecolor": "white",
           "ticks": "",
           "title": {
            "standoff": 15
           },
           "zerolinecolor": "white",
           "zerolinewidth": 2
          }
         }
        },
        "title": {
         "text": "Error vs Shift"
        },
        "uniformtext": {
         "minsize": 12,
         "mode": "hide"
        },
        "width": 1200,
        "xaxis": {
         "anchor": "y",
         "domain": [
          0,
          1
         ],
         "linecolor": "black",
         "mirror": true,
         "showline": true,
         "title": {
          "font": {
           "color": "black",
           "family": "Arial",
           "size": 18
          },
          "text": "Error (NCC)"
         }
        },
        "yaxis": {
         "anchor": "x",
         "domain": [
          0,
          1
         ],
         "linecolor": "black",
         "mirror": true,
         "nticks": 7,
         "showline": true,
         "title": {
          "font": {
           "color": "black",
           "family": "Arial",
           "size": 18
          },
          "text": "Shift distance (pixels)"
         },
         "type": "log"
        }
       }
      }
     },
     "metadata": {},
     "output_type": "display_data"
    }
   ],
   "source": [
    "plot_scatter_shift_error(df, save_path=\"../figures/scatter_shift_error.html\")"
   ]
  },
  {
   "cell_type": "code",
   "execution_count": 115,
   "metadata": {},
   "outputs": [
    {
     "name": "stderr",
     "output_type": "stream",
     "text": [
      "\u001b[32m13:16:47.73\u001b[0m | \u001b[1mINFO\u001b[0m | Saving scatter plot to ../figures/20240410_1316_scatter_shift_error.html\n"
     ]
    },
    {
     "data": {
      "application/vnd.plotly.v1+json": {
       "config": {
        "plotlyServerURL": "https://plot.ly"
       },
       "data": [
        {
         "customdata": [
          [
           "(0,1)"
          ],
          [
           "(0,2)"
          ],
          [
           "(0,16)"
          ],
          [
           "(0,17)"
          ],
          [
           "(0,18)"
          ],
          [
           "(1,2)"
          ],
          [
           "(1,3)"
          ],
          [
           "(1,15)"
          ],
          [
           "(1,16)"
          ],
          [
           "(1,17)"
          ],
          [
           "(1,19)"
          ],
          [
           "(2,3)"
          ],
          [
           "(2,4)"
          ],
          [
           "(2,14)"
          ],
          [
           "(2,15)"
          ],
          [
           "(2,16)"
          ],
          [
           "(2,20)"
          ],
          [
           "(16,14)"
          ],
          [
           "(16,15)"
          ],
          [
           "(16,17)"
          ],
          [
           "(16,18)"
          ],
          [
           "(16,19)"
          ],
          [
           "(16,20)"
          ],
          [
           "(16,34)"
          ],
          [
           "(17,15)"
          ],
          [
           "(17,18)"
          ],
          [
           "(17,19)"
          ],
          [
           "(17,35)"
          ],
          [
           "(18,19)"
          ],
          [
           "(18,20)"
          ],
          [
           "(18,34)"
          ],
          [
           "(18,35)"
          ],
          [
           "(18,36)"
          ],
          [
           "(3,4)"
          ],
          [
           "(3,5)"
          ],
          [
           "(3,13)"
          ],
          [
           "(3,14)"
          ],
          [
           "(3,15)"
          ],
          [
           "(3,21)"
          ],
          [
           "(15,13)"
          ],
          [
           "(15,14)"
          ],
          [
           "(15,19)"
          ],
          [
           "(15,20)"
          ],
          [
           "(15,21)"
          ],
          [
           "(15,33)"
          ],
          [
           "(19,20)"
          ],
          [
           "(19,21)"
          ],
          [
           "(19,33)"
          ],
          [
           "(19,34)"
          ],
          [
           "(19,35)"
          ],
          [
           "(19,37)"
          ],
          [
           "(4,5)"
          ],
          [
           "(4,6)"
          ],
          [
           "(4,12)"
          ],
          [
           "(4,13)"
          ],
          [
           "(4,14)"
          ],
          [
           "(4,22)"
          ],
          [
           "(14,12)"
          ],
          [
           "(14,13)"
          ],
          [
           "(14,20)"
          ],
          [
           "(14,21)"
          ],
          [
           "(14,22)"
          ],
          [
           "(14,32)"
          ],
          [
           "(20,21)"
          ],
          [
           "(20,22)"
          ],
          [
           "(20,32)"
          ],
          [
           "(20,33)"
          ],
          [
           "(20,34)"
          ],
          [
           "(20,38)"
          ],
          [
           "(5,6)"
          ],
          [
           "(5,7)"
          ],
          [
           "(5,11)"
          ],
          [
           "(5,12)"
          ],
          [
           "(5,13)"
          ],
          [
           "(5,23)"
          ],
          [
           "(13,11)"
          ],
          [
           "(13,12)"
          ],
          [
           "(13,21)"
          ],
          [
           "(13,22)"
          ],
          [
           "(13,23)"
          ],
          [
           "(13,31)"
          ],
          [
           "(21,22)"
          ],
          [
           "(21,23)"
          ],
          [
           "(21,31)"
          ],
          [
           "(21,32)"
          ],
          [
           "(21,33)"
          ],
          [
           "(21,39)"
          ],
          [
           "(6,7)"
          ],
          [
           "(6,8)"
          ],
          [
           "(6,10)"
          ],
          [
           "(6,11)"
          ],
          [
           "(6,12)"
          ],
          [
           "(6,24)"
          ],
          [
           "(12,10)"
          ],
          [
           "(12,11)"
          ],
          [
           "(12,22)"
          ],
          [
           "(12,23)"
          ],
          [
           "(12,24)"
          ],
          [
           "(12,30)"
          ],
          [
           "(22,23)"
          ],
          [
           "(22,24)"
          ],
          [
           "(22,30)"
          ],
          [
           "(22,31)"
          ],
          [
           "(22,32)"
          ],
          [
           "(22,40)"
          ],
          [
           "(7,8)"
          ],
          [
           "(7,9)"
          ],
          [
           "(7,10)"
          ],
          [
           "(7,11)"
          ],
          [
           "(7,25)"
          ],
          [
           "(11,9)"
          ],
          [
           "(11,10)"
          ],
          [
           "(11,23)"
          ],
          [
           "(11,24)"
          ],
          [
           "(11,25)"
          ],
          [
           "(11,29)"
          ],
          [
           "(23,24)"
          ],
          [
           "(23,25)"
          ],
          [
           "(23,29)"
          ],
          [
           "(23,30)"
          ],
          [
           "(23,31)"
          ],
          [
           "(23,41)"
          ],
          [
           "(8,9)"
          ],
          [
           "(8,10)"
          ],
          [
           "(8,26)"
          ],
          [
           "(10,9)"
          ],
          [
           "(10,24)"
          ],
          [
           "(10,25)"
          ],
          [
           "(10,26)"
          ],
          [
           "(10,28)"
          ],
          [
           "(24,25)"
          ],
          [
           "(24,26)"
          ],
          [
           "(24,28)"
          ],
          [
           "(24,29)"
          ],
          [
           "(24,30)"
          ],
          [
           "(24,42)"
          ],
          [
           "(9,25)"
          ],
          [
           "(9,26)"
          ],
          [
           "(9,27)"
          ],
          [
           "(25,26)"
          ],
          [
           "(25,27)"
          ],
          [
           "(25,28)"
          ],
          [
           "(25,29)"
          ],
          [
           "(25,43)"
          ],
          [
           "(26,27)"
          ],
          [
           "(26,28)"
          ],
          [
           "(26,44)"
          ],
          [
           "(27,28)"
          ],
          [
           "(27,29)"
          ],
          [
           "(27,43)"
          ],
          [
           "(27,44)"
          ],
          [
           "(27,45)"
          ],
          [
           "(28,29)"
          ],
          [
           "(28,30)"
          ],
          [
           "(28,42)"
          ],
          [
           "(28,43)"
          ],
          [
           "(28,44)"
          ],
          [
           "(28,46)"
          ],
          [
           "(29,30)"
          ],
          [
           "(29,31)"
          ],
          [
           "(29,41)"
          ],
          [
           "(29,42)"
          ],
          [
           "(29,43)"
          ],
          [
           "(29,47)"
          ],
          [
           "(30,31)"
          ],
          [
           "(30,32)"
          ],
          [
           "(30,40)"
          ],
          [
           "(30,41)"
          ],
          [
           "(30,42)"
          ],
          [
           "(30,48)"
          ],
          [
           "(31,32)"
          ],
          [
           "(31,33)"
          ],
          [
           "(31,39)"
          ],
          [
           "(31,40)"
          ],
          [
           "(31,41)"
          ],
          [
           "(31,49)"
          ],
          [
           "(32,33)"
          ],
          [
           "(32,34)"
          ],
          [
           "(32,38)"
          ],
          [
           "(32,39)"
          ],
          [
           "(32,40)"
          ],
          [
           "(32,50)"
          ],
          [
           "(33,34)"
          ],
          [
           "(33,35)"
          ],
          [
           "(33,37)"
          ],
          [
           "(33,38)"
          ],
          [
           "(33,39)"
          ],
          [
           "(33,51)"
          ],
          [
           "(34,35)"
          ],
          [
           "(34,36)"
          ],
          [
           "(34,37)"
          ],
          [
           "(34,38)"
          ],
          [
           "(34,52)"
          ],
          [
           "(35,36)"
          ],
          [
           "(35,37)"
          ],
          [
           "(35,53)"
          ],
          [
           "(36,37)"
          ],
          [
           "(36,38)"
          ],
          [
           "(36,52)"
          ],
          [
           "(36,53)"
          ],
          [
           "(36,54)"
          ],
          [
           "(37,38)"
          ],
          [
           "(37,39)"
          ],
          [
           "(37,51)"
          ],
          [
           "(37,52)"
          ],
          [
           "(37,53)"
          ],
          [
           "(37,55)"
          ],
          [
           "(38,39)"
          ],
          [
           "(38,40)"
          ],
          [
           "(38,50)"
          ],
          [
           "(38,51)"
          ],
          [
           "(38,52)"
          ],
          [
           "(38,56)"
          ],
          [
           "(39,40)"
          ],
          [
           "(39,41)"
          ],
          [
           "(39,49)"
          ],
          [
           "(39,50)"
          ],
          [
           "(39,51)"
          ],
          [
           "(39,57)"
          ],
          [
           "(40,41)"
          ],
          [
           "(40,42)"
          ],
          [
           "(40,48)"
          ],
          [
           "(40,49)"
          ],
          [
           "(40,50)"
          ],
          [
           "(40,58)"
          ],
          [
           "(41,42)"
          ],
          [
           "(41,43)"
          ],
          [
           "(41,47)"
          ],
          [
           "(41,48)"
          ],
          [
           "(41,49)"
          ],
          [
           "(41,59)"
          ],
          [
           "(42,43)"
          ],
          [
           "(42,44)"
          ],
          [
           "(42,46)"
          ],
          [
           "(42,47)"
          ],
          [
           "(42,48)"
          ],
          [
           "(42,60)"
          ],
          [
           "(43,44)"
          ],
          [
           "(43,45)"
          ],
          [
           "(43,46)"
          ],
          [
           "(43,47)"
          ],
          [
           "(43,61)"
          ],
          [
           "(44,45)"
          ],
          [
           "(44,46)"
          ],
          [
           "(44,62)"
          ],
          [
           "(45,46)"
          ],
          [
           "(45,47)"
          ],
          [
           "(45,61)"
          ],
          [
           "(45,62)"
          ],
          [
           "(45,63)"
          ],
          [
           "(46,47)"
          ],
          [
           "(46,48)"
          ],
          [
           "(46,60)"
          ],
          [
           "(46,61)"
          ],
          [
           "(46,62)"
          ],
          [
           "(46,64)"
          ],
          [
           "(47,48)"
          ],
          [
           "(47,49)"
          ],
          [
           "(47,59)"
          ],
          [
           "(47,60)"
          ],
          [
           "(47,61)"
          ],
          [
           "(47,65)"
          ],
          [
           "(48,49)"
          ],
          [
           "(48,50)"
          ],
          [
           "(48,58)"
          ],
          [
           "(48,59)"
          ],
          [
           "(48,60)"
          ],
          [
           "(48,66)"
          ],
          [
           "(49,50)"
          ],
          [
           "(49,51)"
          ],
          [
           "(49,57)"
          ],
          [
           "(49,58)"
          ],
          [
           "(49,59)"
          ],
          [
           "(49,67)"
          ],
          [
           "(50,51)"
          ],
          [
           "(50,52)"
          ],
          [
           "(50,56)"
          ],
          [
           "(50,57)"
          ],
          [
           "(50,58)"
          ],
          [
           "(50,68)"
          ],
          [
           "(51,52)"
          ],
          [
           "(51,53)"
          ],
          [
           "(51,55)"
          ],
          [
           "(51,56)"
          ],
          [
           "(51,57)"
          ],
          [
           "(51,69)"
          ],
          [
           "(52,53)"
          ],
          [
           "(52,54)"
          ],
          [
           "(52,55)"
          ],
          [
           "(52,56)"
          ],
          [
           "(52,70)"
          ],
          [
           "(53,54)"
          ],
          [
           "(53,55)"
          ],
          [
           "(53,71)"
          ],
          [
           "(54,55)"
          ],
          [
           "(54,56)"
          ],
          [
           "(54,70)"
          ],
          [
           "(54,71)"
          ],
          [
           "(54,72)"
          ],
          [
           "(55,56)"
          ],
          [
           "(55,57)"
          ],
          [
           "(55,69)"
          ],
          [
           "(55,70)"
          ],
          [
           "(55,71)"
          ],
          [
           "(55,73)"
          ],
          [
           "(56,57)"
          ],
          [
           "(56,58)"
          ],
          [
           "(56,68)"
          ],
          [
           "(56,69)"
          ],
          [
           "(56,70)"
          ],
          [
           "(56,74)"
          ],
          [
           "(57,58)"
          ],
          [
           "(57,59)"
          ],
          [
           "(57,67)"
          ],
          [
           "(57,68)"
          ],
          [
           "(57,69)"
          ],
          [
           "(57,75)"
          ],
          [
           "(58,59)"
          ],
          [
           "(58,60)"
          ],
          [
           "(58,66)"
          ],
          [
           "(58,67)"
          ],
          [
           "(58,68)"
          ],
          [
           "(58,76)"
          ],
          [
           "(59,60)"
          ],
          [
           "(59,61)"
          ],
          [
           "(59,65)"
          ],
          [
           "(59,66)"
          ],
          [
           "(59,67)"
          ],
          [
           "(59,77)"
          ],
          [
           "(60,61)"
          ],
          [
           "(60,62)"
          ],
          [
           "(60,64)"
          ],
          [
           "(60,65)"
          ],
          [
           "(60,66)"
          ],
          [
           "(60,78)"
          ],
          [
           "(61,62)"
          ],
          [
           "(61,63)"
          ],
          [
           "(61,64)"
          ],
          [
           "(61,65)"
          ],
          [
           "(61,79)"
          ],
          [
           "(62,63)"
          ],
          [
           "(62,64)"
          ],
          [
           "(62,80)"
          ],
          [
           "(63,64)"
          ],
          [
           "(63,65)"
          ],
          [
           "(63,79)"
          ],
          [
           "(63,80)"
          ],
          [
           "(64,65)"
          ],
          [
           "(64,66)"
          ],
          [
           "(64,78)"
          ],
          [
           "(64,79)"
          ],
          [
           "(64,80)"
          ],
          [
           "(65,66)"
          ],
          [
           "(65,67)"
          ],
          [
           "(65,77)"
          ],
          [
           "(65,78)"
          ],
          [
           "(65,79)"
          ],
          [
           "(66,67)"
          ],
          [
           "(66,68)"
          ],
          [
           "(66,76)"
          ],
          [
           "(66,77)"
          ],
          [
           "(66,78)"
          ],
          [
           "(67,68)"
          ],
          [
           "(67,69)"
          ],
          [
           "(67,75)"
          ],
          [
           "(67,76)"
          ],
          [
           "(67,77)"
          ],
          [
           "(68,69)"
          ],
          [
           "(68,70)"
          ],
          [
           "(68,74)"
          ],
          [
           "(68,75)"
          ],
          [
           "(68,76)"
          ],
          [
           "(69,70)"
          ],
          [
           "(69,71)"
          ],
          [
           "(69,73)"
          ],
          [
           "(69,74)"
          ],
          [
           "(69,75)"
          ],
          [
           "(70,71)"
          ],
          [
           "(70,72)"
          ],
          [
           "(70,73)"
          ],
          [
           "(70,74)"
          ],
          [
           "(71,72)"
          ],
          [
           "(71,73)"
          ],
          [
           "(72,73)"
          ],
          [
           "(72,74)"
          ],
          [
           "(73,74)"
          ],
          [
           "(73,75)"
          ],
          [
           "(74,75)"
          ],
          [
           "(74,76)"
          ],
          [
           "(75,76)"
          ],
          [
           "(75,77)"
          ],
          [
           "(76,77)"
          ],
          [
           "(76,78)"
          ],
          [
           "(77,78)"
          ],
          [
           "(77,79)"
          ],
          [
           "(78,79)"
          ],
          [
           "(78,80)"
          ],
          [
           "(79,80)"
          ]
         ],
         "hovertemplate": "cycle_id=cycle_00<br>X_Error=%{x}<br>Y_Shift=%{y}<br>edge_id=%{customdata[0]}<extra></extra>",
         "legendgroup": "cycle_00",
         "marker": {
          "color": "#636efa",
          "line": {
           "color": "DarkSlateGrey",
           "width": 1
          },
          "opacity": 0.6,
          "size": 8,
          "symbol": "circle"
         },
         "mode": "markers",
         "name": "cycle_00",
         "orientation": "v",
         "showlegend": true,
         "type": "scatter",
         "x": [
          6.252368450164795,
          3.8998022079467773,
          1.7631398439407349,
          6.31254243850708,
          3.1349949836730957,
          0.924749493598938,
          5.76358699798584,
          1.3144612312316895,
          1.3045960664749146,
          0.7320832014083862,
          1.8434330224990845,
          1.4585906267166138,
          1.9357529878616333,
          1.0181106328964233,
          1.423854112625122,
          1.000849723815918,
          1.8095295429229736,
          1.955397129058838,
          0.9428921341896057,
          0.8594587445259094,
          1.050164818763733,
          1.0109513998031616,
          1.0886708498001099,
          1.8725697994232178,
          1.2158918380737305,
          1.2335208654403687,
          0.9622076749801636,
          2.531458616256714,
          0.9123701453208923,
          3.1726207733154297,
          1.1467039585113525,
          1.161468505859375,
          1.3794678449630737,
          0.8532646298408508,
          1.7453144788742065,
          0.7296547889709473,
          1.0090019702911377,
          0.8896331191062927,
          3.383176326751709,
          2.8522017002105713,
          0.8884459733963013,
          1.3027290105819702,
          1.0759912729263306,
          0.7362898588180542,
          1.151849389076233,
          1.0843185186386108,
          1.7840701341629028,
          0.944141149520874,
          0.9959222078323364,
          0.9006804823875427,
          2.562689781188965,
          0.8403040766716003,
          2.5551960468292236,
          1.0002609491348267,
          0.9427691102027893,
          0.9726200103759766,
          2.1520779132843018,
          3.129758834838867,
          1.1698790788650513,
          0.8816017508506775,
          0.930690348148346,
          0.9158026576042175,
          2.599944829940796,
          1.1064643859863281,
          3.0342471599578857,
          0.9047149419784546,
          1.1428532600402832,
          0.9345853328704834,
          1.5426454544067383,
          0.7661969065666199,
          1.6570864915847778,
          1.0582268238067627,
          1.3591119050979614,
          0.7916903495788574,
          2.325984477996826,
          2.3045432567596436,
          1.0258288383483887,
          0.9017723202705383,
          1.298208475112915,
          0.8187079429626465,
          1.9740138053894043,
          1.337188720703125,
          4.8224968910217285,
          1.0463131666183472,
          1.1882851123809814,
          0.9145264029502869,
          2.608283519744873,
          0.8244486451148987,
          1.9624993801116943,
          0.8114091753959656,
          1.1533348560333252,
          0.9491272568702698,
          1.8974140882492065,
          1.5652804374694824,
          1.2073135375976562,
          0.8733604550361633,
          1.3898630142211914,
          0.8451579213142395,
          1.2280884981155396,
          1.4020299911499023,
          2.0815975666046143,
          1.0390290021896362,
          1.0811879634857178,
          1.0037635564804077,
          2.4860775470733643,
          0.8128668665885925,
          1.1877129077911377,
          0.8516978025436401,
          1.0397390127182007,
          2.198655843734741,
          1.9591604471206665,
          0.9778525233268738,
          0.9080522060394287,
          1.1782790422439575,
          0.8544051051139832,
          2.085467576980591,
          0.9936311841011047,
          1.3790709972381592,
          1.1619306802749634,
          1.516516089439392,
          1.134559154510498,
          3.083782434463501,
          1.4883524179458618,
          0.7259251475334167,
          3.4232137203216553,
          0.8806247711181641,
          0.911955714225769,
          1.2131391763687134,
          1.000445008277893,
          1.123942494392395,
          0.9275200366973877,
          1.4624861478805542,
          0.8729091882705688,
          0.9970091581344604,
          0.8213072419166565,
          2.654294013977051,
          1.0733760595321655,
          1.635650873184204,
          1.1642615795135498,
          1.17038094997406,
          0.9319549202919006,
          1.131598949432373,
          0.8421626091003418,
          2.4891061782836914,
          0.7298098802566528,
          0.6629493832588196,
          1.5789128541946411,
          0.8904358148574829,
          2.011965274810791,
          0.7497653365135193,
          0.7806644439697266,
          2.955073356628418,
          0.8635498285293579,
          2.3920068740844727,
          0.8031556606292725,
          1.025757074356079,
          0.9244521260261536,
          1.267763614654541,
          1.098545789718628,
          3.330221652984619,
          0.8064351081848145,
          1.0374624729156494,
          0.8827410936355591,
          2.871432065963745,
          1.283647060394287,
          4.183579921722412,
          0.9386001825332642,
          1.1553009748458862,
          0.7821725010871887,
          1.351924180984497,
          1.0886273384094238,
          2.521109104156494,
          0.9463216066360474,
          1.2171331644058228,
          1.0703729391098022,
          2.036508083343506,
          1.0899895429611206,
          2.192596673965454,
          1.1143854856491089,
          1.0834850072860718,
          0.957129716873169,
          2.7116270065307617,
          1.0671159029006958,
          2.8905129432678223,
          0.9960740208625793,
          1.18660306930542,
          1.245082974433899,
          2.2808449268341064,
          1.2822517156600952,
          0.9388313293457031,
          1.130189299583435,
          0.8404912948608398,
          2.1083452701568604,
          1.2262221574783325,
          1.0968202352523804,
          1.9140225648880005,
          1.0872408151626587,
          3.0129551887512207,
          0.8963607549667358,
          0.8196488618850708,
          1.7627123594284058,
          1.1255838871002197,
          2.5744221210479736,
          0.9360916614532471,
          1.2620034217834473,
          0.848313570022583,
          3.04294753074646,
          1.3220762014389038,
          2.165135145187378,
          1.0371218919754028,
          1.4498066902160645,
          0.9301403760910034,
          2.235405683517456,
          1.0429892539978027,
          2.723396062850952,
          0.9854375123977661,
          1.0475305318832397,
          0.9096101522445679,
          3.449805736541748,
          0.9211249351501465,
          1.7649526596069336,
          0.907101035118103,
          0.9760017991065979,
          0.8149265050888062,
          2.642993688583374,
          0.9794082045555115,
          2.2509236335754395,
          0.6795388460159302,
          1.1186497211456299,
          0.7369443774223328,
          1.903934121131897,
          0.9633662700653076,
          2.2680392265319824,
          0.7793530821800232,
          1.1329814195632935,
          0.778235673904419,
          1.092740535736084,
          1.119970679283142,
          0.8097752332687378,
          1.1373724937438965,
          0.8762218952178955,
          2.744985580444336,
          1.2462817430496216,
          0.8072670698165894,
          2.3984155654907227,
          1.063065767288208,
          1.8550931215286255,
          0.8940908908843994,
          0.9775959849357605,
          1.3716964721679688,
          0.9130603671073914,
          2.0408689975738525,
          0.71430903673172,
          1.295257568359375,
          0.7841867208480835,
          1.5322563648223877,
          0.8098168969154358,
          2.6888434886932373,
          0.9531313180923462,
          0.8932987451553345,
          0.5721124410629272,
          1.6597732305526733,
          0.8467100858688354,
          1.5101228952407837,
          0.8291768431663513,
          1.2271294593811035,
          0.6945945024490356,
          2.557451009750366,
          1.0901700258255005,
          2.581429958343506,
          0.97088223695755,
          1.0498876571655273,
          0.7266722321510315,
          3.1604244709014893,
          1.5062174797058105,
          2.325422763824463,
          1.0634276866912842,
          1.257068157196045,
          0.8070446848869324,
          1.8456430435180664,
          1.2021902799606323,
          3.0698747634887695,
          1.0126745700836182,
          1.3818806409835815,
          0.8867535591125488,
          2.270561695098877,
          0.8929003477096558,
          0.979766845703125,
          1.0822674036026,
          0.9453797340393066,
          2.6539204120635986,
          1.0109670162200928,
          0.7974221110343933,
          2.251366376876831,
          0.8002311587333679,
          2.3448781967163086,
          0.9480741620063782,
          0.975816547870636,
          2.4301133155822754,
          1.1408405303955078,
          2.2619433403015137,
          0.8725824952125549,
          0.9276777505874634,
          0.6746662259101868,
          1.946950078010559,
          1.1361669301986694,
          2.744982957839966,
          1.0205353498458862,
          1.272124171257019,
          1.0010192394256592,
          2.632916212081909,
          1.0632097721099854,
          1.5937753915786743,
          1.0554912090301514,
          1.2428072690963745,
          0.8566391468048096,
          2.233353853225708,
          1.1313656568527222,
          3.601250410079956,
          0.8391835689544678,
          1.1191997528076172,
          1.033927321434021,
          2.5183603763580322,
          1.0398786067962646,
          2.4453859329223633,
          0.8492099046707153,
          1.4656628370285034,
          0.8702789545059204,
          2.9914450645446777,
          0.89821857213974,
          2.5978598594665527,
          1.037304401397705,
          1.2860329151153564,
          0.9528263211250305,
          2.1104369163513184,
          1.0352095365524292,
          0.8494185209274292,
          1.3593254089355469,
          0.817137598991394,
          2.1325278282165527,
          1.418501853942871,
          1.032730221748352,
          2.0433943271636963,
          0.8004416227340698,
          1.9008275270462036,
          0.7155710458755493,
          1.0383052825927734,
          0.8219642043113708,
          3.13838791847229,
          0.8451954126358032,
          0.7170493602752686,
          0.6949473023414612,
          1.0684813261032104,
          1.9897949695587158,
          0.8893563747406006,
          1.202117919921875,
          0.7438766956329346,
          0.9957976341247559,
          3.173511505126953,
          0.7997707724571228,
          0.972954511642456,
          0.8652539849281311,
          1.3847230672836304,
          1.9637526273727417,
          0.8547040224075317,
          1.0733561515808105,
          0.8317694664001465,
          1.43789541721344,
          3.1876063346862793,
          1.1096370220184326,
          1.4052305221557617,
          0.9980115294456482,
          1.2088900804519653,
          2.382719039916992,
          0.9559944868087769,
          1.457060694694519,
          1.0067936182022095,
          0.961864173412323,
          0.8277329206466675,
          0.7407160401344299,
          0.8624547719955444,
          0.5458654761314392,
          0.4653412103652954,
          0.569454550743103,
          1.771669626235962,
          0.8079187870025635,
          2.767439842224121,
          0.8098125457763672,
          1.826586127281189,
          0.9771382212638855,
          2.3686764240264893,
          0.9223188757896423,
          2.2851758003234863,
          0.9010030627250671,
          2.117706775665283,
          0.9023759961128235,
          2.0525035858154297,
          0.7075253129005432
         ],
         "xaxis": "x",
         "y": [
          104.7574787115856,
          178.84474018351392,
          10.623088443125617,
          78.77791677950835,
          333.10150715084154,
          5.223982964784385,
          8.94706664398111,
          10.068763407550888,
          5.738466888603431,
          9.646243167571765,
          266.0114598169914,
          6.003332408020739,
          340.42468454085235,
          10.570240995245609,
          8.050465822366098,
          8.73212459828649,
          30.41644254028799,
          245.72383481868508,
          6.307138660527027,
          5.604462599569049,
          8.83232690463929,
          6.23939115564807,
          9.425497320193307,
          14.23516752915574,
          621.6128454660811,
          7.203471396634031,
          8.35224523453207,
          12.839003266718665,
          4.501110974003865,
          267.49160124355285,
          9.741663312843428,
          5.943904616373549,
          11.2946893749025,
          5.635601077444123,
          434.2028551391195,
          12.397580197554332,
          8.109870910475586,
          9.78365998142521,
          185.26851394529504,
          302.22390272430005,
          5.770615026382131,
          9.178235115115466,
          6.0539242407334175,
          8.15414007147141,
          19.592090988081203,
          6.53069681261555,
          14.94523298626261,
          12.149073614902395,
          8.022468449835763,
          8.14002462739523,
          269.8018410112987,
          5.100980202622848,
          15.64384844318831,
          12.35677969013804,
          8.10246914100892,
          8.02122174030193,
          602.0008305642111,
          360.2933587796904,
          6.184658299646495,
          9.693296617423533,
          5.797413124134313,
          8.348652691560327,
          94.68452730675543,
          6.511528340961441,
          12.32396026199997,
          10.062305898749054,
          7.716216499210163,
          8.660831450353829,
          12.340583644709746,
          7.186793231215312,
          39.51265620026069,
          12.611502814593221,
          10.149384597387598,
          9.154780233590301,
          22.02271554554524,
          1.0770329636405618,
          6.262587382607328,
          8.561542078717803,
          4.875448742289288,
          6.789697894354723,
          330.30150156491163,
          5.3366654505222995,
          21.415881957674166,
          11.253887937319693,
          6.736467726298669,
          9.847334924318076,
          488.0172230567403,
          4.816637791917748,
          39.901003252767886,
          10.469479423960006,
          7.5,
          9.3380942281976,
          361.222159921508,
          11.742657090148048,
          5.699999809265137,
          9.154780551315753,
          6.351377962441661,
          6.280127198941733,
          368.0206651806232,
          2.6832816796237777,
          16.783622229071245,
          10.728000928837497,
          8.10246914100892,
          8.183520156711534,
          11.443775220725474,
          8.926925750611664,
          10.04041799883395,
          6.113100591458128,
          5.580322543123065,
          154.78669803027802,
          4.176122617266035,
          4.308131854562247,
          12.692123550052937,
          6.02162776453351,
          9.630161138198494,
          189.38558247214755,
          7.7466120691832145,
          21.123683771966068,
          10.79120054281606,
          7.844743275766463,
          6.760177572417989,
          19.612241822312807,
          6.203225162956186,
          9.798979152331436,
          100.90495680551261,
          6.438167534633891,
          8.852683557020224,
          6.5069193945485875,
          8.228000827407241,
          172.8028965459998,
          8.005622852309369,
          127.20392770521208,
          11.289375325128864,
          6.846897298270776,
          8.700574885480853,
          339.68503668165494,
          8.76641315581979,
          6.46219780397998,
          555.1008763238519,
          4.21900443263521,
          8.949301633813176,
          6.844705851095345,
          9.411163976921921,
          41.012193308819754,
          6.706712864832177,
          9.709788611926921,
          292.3238161567266,
          7.034912933598446,
          10.03194878827033,
          8.863972331475557,
          5.059644444755843,
          14.94958193558856,
          5.859180682813044,
          3.929376494763993,
          9.613532459583787,
          5.400925941934984,
          8.127114898090989,
          14.43468008005969,
          5.414794643819527,
          621.0581695783416,
          8.858893913649213,
          7.446475746891395,
          10.245975072582812,
          48.863995685067586,
          4.148493708860132,
          14.366976020598633,
          8.828363193775697,
          5.675385443583792,
          8.417244388720192,
          194.443224687736,
          6.62117812273399,
          214.90232054751996,
          9.86559659260819,
          4.957822106343366,
          7.82623772932601,
          350.3679372423011,
          6.503076195247299,
          12.998845738292612,
          9.953893516010824,
          6.216912351752825,
          7.2180328706514505,
          238.2352798100122,
          6.276942143296219,
          251.84687503353146,
          8.448077097042463,
          5.032891617691657,
          7.117583898566361,
          607.700834980853,
          5.554277562119178,
          8.452810118728241,
          6.041523069670267,
          8.766412965442035,
          313.8015811605597,
          7.00357062008455,
          9.492102359342805,
          4.512205762067307,
          5.295280730646625,
          234.32654260747557,
          9.368030716436051,
          5.724508794592704,
          35.614040649123545,
          5.554277712357441,
          43.111597841755305,
          9.100549055921844,
          7.1386273143541255,
          8.692525562142372,
          64.63017870942505,
          5.656854156769313,
          419.60119771286446,
          10.412012320062395,
          7.057619906253801,
          9.10659108462416,
          41.1121621247625,
          4.9365981164371755,
          319.71839781463905,
          10.720540834971727,
          8.237718505739906,
          10.107918073568987,
          164.58969588993278,
          6.754257871124588,
          221.93786808760694,
          11.52475630446692,
          8.820431020394857,
          9.935793867181333,
          20.85689333642814,
          4.204759144819402,
          13.536986370680884,
          10.107918073568987,
          7.692203911161924,
          8.98888204291667,
          587.0168140868827,
          8.139410298049853,
          274.32915139157706,
          11.706835813676204,
          6.596969099290756,
          8.602325267042627,
          12.041594578792296,
          5.707889087287449,
          10.123734664029303,
          7.306161974106623,
          8.324061675932551,
          119.10419655299995,
          8.0156097709407,
          9.3605554045847,
          13.237824404508455,
          5.474486367418676,
          11.742657090148048,
          9.879271015810481,
          4.96487673096466,
          440.7190837248708,
          6.332456151130509,
          25.119912801396833,
          7.211102762529311,
          6.132699155501171,
          7.964923077946438,
          89.77527651238968,
          7.623647327823164,
          426.87939140527465,
          7.7162168699906974,
          5.8008621956414785,
          9.09560350595762,
          8.856636119708973,
          4.64865580993403,
          9.95037649774618,
          4.606516994155548,
          4.588028085857126,
          9.972462011433715,
          6.466065265075736,
          6.020797392353991,
          234.43412110584907,
          5.664803793759285,
          4.9040797444918365,
          8.560373859262903,
          206.57085341492134,
          6.89492565446901,
          359.12228332915373,
          6.229767341188249,
          4.716990672172041,
          9.558765603700387,
          249.8020046449952,
          4.393176709102938,
          33.2150575892799,
          6.964194244720289,
          5.604462599569049,
          10.538026444033251,
          13.437261245380752,
          6.174139489513833,
          7.169379118741192,
          5.433231180299482,
          8.792042067650147,
          9.353609118819778,
          7.125306917908358,
          9.980982224247082,
          9.757560822758883,
          4.767598790393945,
          414.80119319144563,
          8.005622852309369,
          6.307138660527027,
          636.0007861630361,
          6.449806294748441,
          419.91810496126027,
          10.062305898749054,
          5.500909015817116,
          8.695401131588664,
          2.325940583819113,
          6.726811920752078,
          14.63420688451944,
          11.289375325128864,
          7.382411722274851,
          8.409518289638804,
          293.20171752260126,
          5.948108774034586,
          14.334922582805152,
          12.301625712661233,
          8.395236548203208,
          10.03444052656716,
          33.115100769691445,
          4.947726947346189,
          11.70341822400746,
          10.381233460598615,
          8.827797196370357,
          10.208330253341114,
          16.929559566223908,
          6.735725708500898,
          9.482615722434883,
          10.604244060021596,
          7.924645285986415,
          9.334880687194286,
          75.70574462540549,
          3.744328912926685,
          52.74694304318064,
          9.464143196657504,
          6.824954015975141,
          9.848858227852311,
          11.941942510371613,
          7.310950879718421,
          10.36195001281539,
          6.129437075713199,
          6.57343131958907,
          161.94696052618602,
          8.154140211818422,
          9.551963164982148,
          142.76834686396728,
          5.0960770076445705,
          22.722016517850076,
          8.276472678623424,
          5.456189273876459,
          5.249761906629095,
          11.643024042322416,
          9.391485079002997,
          6.23618474406625,
          7.596051533742682,
          6.264981850889305,
          7.269112549233091,
          9.2179169917939,
          7.1470275502339105,
          8.905054552927476,
          4.229657007113837,
          19.514354064947774,
          8.731551802053762,
          4.838388070692515,
          9.109335702382776,
          7.211102762529311,
          229.9021687448893,
          12.903487519474483,
          5.243090847994135,
          6.209669884647166,
          6.23939115564807,
          38.408853904908106,
          8.926925750611664,
          6.242595481096521,
          8.159656691318283,
          6.216912351752825,
          45.111083586694356,
          8.73212459828649,
          5.189412145599988,
          6.811754737126297,
          6.303173994461156,
          10.86876266856056,
          7.382411722274851,
          8.764131080221743,
          6.521503021496912,
          9.3107464597423,
          8.430895757903764,
          70.91290737326256,
          4.599999904632568,
          27.543602163161744,
          2.879236054492939,
          443.21897615098214,
          9.392017526061109,
          49.18831162023023,
          5.731491765171858,
          24.540579361547096,
          6.264982043070834,
          759.0095124568448,
          5.643580327699383,
          17.229046005078683,
          4.98196757232376
         ],
         "yaxis": "y"
        },
        {
         "customdata": [
          [
           "(0,1)"
          ],
          [
           "(0,2)"
          ],
          [
           "(0,16)"
          ],
          [
           "(0,17)"
          ],
          [
           "(0,18)"
          ],
          [
           "(1,2)"
          ],
          [
           "(1,3)"
          ],
          [
           "(1,15)"
          ],
          [
           "(1,16)"
          ],
          [
           "(1,17)"
          ],
          [
           "(1,19)"
          ],
          [
           "(2,3)"
          ],
          [
           "(2,4)"
          ],
          [
           "(2,14)"
          ],
          [
           "(2,15)"
          ],
          [
           "(2,16)"
          ],
          [
           "(2,20)"
          ],
          [
           "(16,14)"
          ],
          [
           "(16,15)"
          ],
          [
           "(16,17)"
          ],
          [
           "(16,18)"
          ],
          [
           "(16,19)"
          ],
          [
           "(16,20)"
          ],
          [
           "(16,34)"
          ],
          [
           "(17,15)"
          ],
          [
           "(17,18)"
          ],
          [
           "(17,19)"
          ],
          [
           "(17,35)"
          ],
          [
           "(18,19)"
          ],
          [
           "(18,20)"
          ],
          [
           "(18,34)"
          ],
          [
           "(18,35)"
          ],
          [
           "(18,36)"
          ],
          [
           "(3,4)"
          ],
          [
           "(3,5)"
          ],
          [
           "(3,13)"
          ],
          [
           "(3,14)"
          ],
          [
           "(3,15)"
          ],
          [
           "(3,21)"
          ],
          [
           "(15,13)"
          ],
          [
           "(15,14)"
          ],
          [
           "(15,19)"
          ],
          [
           "(15,20)"
          ],
          [
           "(15,21)"
          ],
          [
           "(15,33)"
          ],
          [
           "(19,20)"
          ],
          [
           "(19,21)"
          ],
          [
           "(19,33)"
          ],
          [
           "(19,34)"
          ],
          [
           "(19,35)"
          ],
          [
           "(19,37)"
          ],
          [
           "(4,5)"
          ],
          [
           "(4,6)"
          ],
          [
           "(4,12)"
          ],
          [
           "(4,13)"
          ],
          [
           "(4,14)"
          ],
          [
           "(4,22)"
          ],
          [
           "(14,12)"
          ],
          [
           "(14,13)"
          ],
          [
           "(14,20)"
          ],
          [
           "(14,21)"
          ],
          [
           "(14,22)"
          ],
          [
           "(14,32)"
          ],
          [
           "(20,21)"
          ],
          [
           "(20,22)"
          ],
          [
           "(20,32)"
          ],
          [
           "(20,33)"
          ],
          [
           "(20,34)"
          ],
          [
           "(20,38)"
          ],
          [
           "(5,6)"
          ],
          [
           "(5,7)"
          ],
          [
           "(5,11)"
          ],
          [
           "(5,12)"
          ],
          [
           "(5,13)"
          ],
          [
           "(5,23)"
          ],
          [
           "(13,11)"
          ],
          [
           "(13,12)"
          ],
          [
           "(13,21)"
          ],
          [
           "(13,22)"
          ],
          [
           "(13,23)"
          ],
          [
           "(13,31)"
          ],
          [
           "(21,22)"
          ],
          [
           "(21,23)"
          ],
          [
           "(21,31)"
          ],
          [
           "(21,32)"
          ],
          [
           "(21,33)"
          ],
          [
           "(21,39)"
          ],
          [
           "(6,7)"
          ],
          [
           "(6,8)"
          ],
          [
           "(6,10)"
          ],
          [
           "(6,11)"
          ],
          [
           "(6,12)"
          ],
          [
           "(6,24)"
          ],
          [
           "(12,10)"
          ],
          [
           "(12,11)"
          ],
          [
           "(12,22)"
          ],
          [
           "(12,23)"
          ],
          [
           "(12,24)"
          ],
          [
           "(12,30)"
          ],
          [
           "(22,23)"
          ],
          [
           "(22,24)"
          ],
          [
           "(22,30)"
          ],
          [
           "(22,31)"
          ],
          [
           "(22,32)"
          ],
          [
           "(22,40)"
          ],
          [
           "(7,8)"
          ],
          [
           "(7,9)"
          ],
          [
           "(7,10)"
          ],
          [
           "(7,11)"
          ],
          [
           "(7,25)"
          ],
          [
           "(11,9)"
          ],
          [
           "(11,10)"
          ],
          [
           "(11,23)"
          ],
          [
           "(11,24)"
          ],
          [
           "(11,25)"
          ],
          [
           "(11,29)"
          ],
          [
           "(23,24)"
          ],
          [
           "(23,25)"
          ],
          [
           "(23,29)"
          ],
          [
           "(23,30)"
          ],
          [
           "(23,31)"
          ],
          [
           "(23,41)"
          ],
          [
           "(8,9)"
          ],
          [
           "(8,10)"
          ],
          [
           "(8,26)"
          ],
          [
           "(10,9)"
          ],
          [
           "(10,24)"
          ],
          [
           "(10,25)"
          ],
          [
           "(10,26)"
          ],
          [
           "(10,28)"
          ],
          [
           "(24,25)"
          ],
          [
           "(24,26)"
          ],
          [
           "(24,28)"
          ],
          [
           "(24,29)"
          ],
          [
           "(24,30)"
          ],
          [
           "(24,42)"
          ],
          [
           "(9,25)"
          ],
          [
           "(9,26)"
          ],
          [
           "(9,27)"
          ],
          [
           "(25,26)"
          ],
          [
           "(25,27)"
          ],
          [
           "(25,28)"
          ],
          [
           "(25,29)"
          ],
          [
           "(25,43)"
          ],
          [
           "(26,27)"
          ],
          [
           "(26,28)"
          ],
          [
           "(26,44)"
          ],
          [
           "(27,28)"
          ],
          [
           "(27,29)"
          ],
          [
           "(27,43)"
          ],
          [
           "(27,44)"
          ],
          [
           "(27,45)"
          ],
          [
           "(28,29)"
          ],
          [
           "(28,30)"
          ],
          [
           "(28,42)"
          ],
          [
           "(28,43)"
          ],
          [
           "(28,44)"
          ],
          [
           "(28,46)"
          ],
          [
           "(29,30)"
          ],
          [
           "(29,31)"
          ],
          [
           "(29,41)"
          ],
          [
           "(29,42)"
          ],
          [
           "(29,43)"
          ],
          [
           "(29,47)"
          ],
          [
           "(30,31)"
          ],
          [
           "(30,32)"
          ],
          [
           "(30,40)"
          ],
          [
           "(30,41)"
          ],
          [
           "(30,42)"
          ],
          [
           "(30,48)"
          ],
          [
           "(31,32)"
          ],
          [
           "(31,33)"
          ],
          [
           "(31,39)"
          ],
          [
           "(31,40)"
          ],
          [
           "(31,41)"
          ],
          [
           "(31,49)"
          ],
          [
           "(32,33)"
          ],
          [
           "(32,34)"
          ],
          [
           "(32,38)"
          ],
          [
           "(32,39)"
          ],
          [
           "(32,40)"
          ],
          [
           "(32,50)"
          ],
          [
           "(33,34)"
          ],
          [
           "(33,35)"
          ],
          [
           "(33,37)"
          ],
          [
           "(33,38)"
          ],
          [
           "(33,39)"
          ],
          [
           "(33,51)"
          ],
          [
           "(34,35)"
          ],
          [
           "(34,36)"
          ],
          [
           "(34,37)"
          ],
          [
           "(34,38)"
          ],
          [
           "(34,52)"
          ],
          [
           "(35,36)"
          ],
          [
           "(35,37)"
          ],
          [
           "(35,53)"
          ],
          [
           "(36,37)"
          ],
          [
           "(36,38)"
          ],
          [
           "(36,52)"
          ],
          [
           "(36,53)"
          ],
          [
           "(36,54)"
          ],
          [
           "(37,38)"
          ],
          [
           "(37,39)"
          ],
          [
           "(37,51)"
          ],
          [
           "(37,52)"
          ],
          [
           "(37,53)"
          ],
          [
           "(37,55)"
          ],
          [
           "(38,39)"
          ],
          [
           "(38,40)"
          ],
          [
           "(38,50)"
          ],
          [
           "(38,51)"
          ],
          [
           "(38,52)"
          ],
          [
           "(38,56)"
          ],
          [
           "(39,40)"
          ],
          [
           "(39,41)"
          ],
          [
           "(39,49)"
          ],
          [
           "(39,50)"
          ],
          [
           "(39,51)"
          ],
          [
           "(39,57)"
          ],
          [
           "(40,41)"
          ],
          [
           "(40,42)"
          ],
          [
           "(40,48)"
          ],
          [
           "(40,49)"
          ],
          [
           "(40,50)"
          ],
          [
           "(40,58)"
          ],
          [
           "(41,42)"
          ],
          [
           "(41,43)"
          ],
          [
           "(41,47)"
          ],
          [
           "(41,48)"
          ],
          [
           "(41,49)"
          ],
          [
           "(41,59)"
          ],
          [
           "(42,43)"
          ],
          [
           "(42,44)"
          ],
          [
           "(42,46)"
          ],
          [
           "(42,47)"
          ],
          [
           "(42,48)"
          ],
          [
           "(42,60)"
          ],
          [
           "(43,44)"
          ],
          [
           "(43,45)"
          ],
          [
           "(43,46)"
          ],
          [
           "(43,47)"
          ],
          [
           "(43,61)"
          ],
          [
           "(44,45)"
          ],
          [
           "(44,46)"
          ],
          [
           "(44,62)"
          ],
          [
           "(45,46)"
          ],
          [
           "(45,47)"
          ],
          [
           "(45,61)"
          ],
          [
           "(45,62)"
          ],
          [
           "(45,63)"
          ],
          [
           "(46,47)"
          ],
          [
           "(46,48)"
          ],
          [
           "(46,60)"
          ],
          [
           "(46,61)"
          ],
          [
           "(46,62)"
          ],
          [
           "(46,64)"
          ],
          [
           "(47,48)"
          ],
          [
           "(47,49)"
          ],
          [
           "(47,59)"
          ],
          [
           "(47,60)"
          ],
          [
           "(47,61)"
          ],
          [
           "(47,65)"
          ],
          [
           "(48,49)"
          ],
          [
           "(48,50)"
          ],
          [
           "(48,58)"
          ],
          [
           "(48,59)"
          ],
          [
           "(48,60)"
          ],
          [
           "(48,66)"
          ],
          [
           "(49,50)"
          ],
          [
           "(49,51)"
          ],
          [
           "(49,57)"
          ],
          [
           "(49,58)"
          ],
          [
           "(49,59)"
          ],
          [
           "(49,67)"
          ],
          [
           "(50,51)"
          ],
          [
           "(50,52)"
          ],
          [
           "(50,56)"
          ],
          [
           "(50,57)"
          ],
          [
           "(50,58)"
          ],
          [
           "(50,68)"
          ],
          [
           "(51,52)"
          ],
          [
           "(51,53)"
          ],
          [
           "(51,55)"
          ],
          [
           "(51,56)"
          ],
          [
           "(51,57)"
          ],
          [
           "(51,69)"
          ],
          [
           "(52,53)"
          ],
          [
           "(52,54)"
          ],
          [
           "(52,55)"
          ],
          [
           "(52,56)"
          ],
          [
           "(52,70)"
          ],
          [
           "(53,54)"
          ],
          [
           "(53,55)"
          ],
          [
           "(53,71)"
          ],
          [
           "(54,55)"
          ],
          [
           "(54,56)"
          ],
          [
           "(54,70)"
          ],
          [
           "(54,71)"
          ],
          [
           "(54,72)"
          ],
          [
           "(55,56)"
          ],
          [
           "(55,57)"
          ],
          [
           "(55,69)"
          ],
          [
           "(55,70)"
          ],
          [
           "(55,71)"
          ],
          [
           "(55,73)"
          ],
          [
           "(56,57)"
          ],
          [
           "(56,58)"
          ],
          [
           "(56,68)"
          ],
          [
           "(56,69)"
          ],
          [
           "(56,70)"
          ],
          [
           "(56,74)"
          ],
          [
           "(57,58)"
          ],
          [
           "(57,59)"
          ],
          [
           "(57,67)"
          ],
          [
           "(57,68)"
          ],
          [
           "(57,69)"
          ],
          [
           "(57,75)"
          ],
          [
           "(58,59)"
          ],
          [
           "(58,60)"
          ],
          [
           "(58,66)"
          ],
          [
           "(58,67)"
          ],
          [
           "(58,68)"
          ],
          [
           "(58,76)"
          ],
          [
           "(59,60)"
          ],
          [
           "(59,61)"
          ],
          [
           "(59,65)"
          ],
          [
           "(59,66)"
          ],
          [
           "(59,67)"
          ],
          [
           "(59,77)"
          ],
          [
           "(60,61)"
          ],
          [
           "(60,62)"
          ],
          [
           "(60,64)"
          ],
          [
           "(60,65)"
          ],
          [
           "(60,66)"
          ],
          [
           "(60,78)"
          ],
          [
           "(61,62)"
          ],
          [
           "(61,63)"
          ],
          [
           "(61,64)"
          ],
          [
           "(61,65)"
          ],
          [
           "(61,79)"
          ],
          [
           "(62,63)"
          ],
          [
           "(62,64)"
          ],
          [
           "(62,80)"
          ],
          [
           "(63,64)"
          ],
          [
           "(63,65)"
          ],
          [
           "(63,79)"
          ],
          [
           "(63,80)"
          ],
          [
           "(64,65)"
          ],
          [
           "(64,66)"
          ],
          [
           "(64,78)"
          ],
          [
           "(64,79)"
          ],
          [
           "(64,80)"
          ],
          [
           "(65,66)"
          ],
          [
           "(65,67)"
          ],
          [
           "(65,77)"
          ],
          [
           "(65,78)"
          ],
          [
           "(65,79)"
          ],
          [
           "(66,67)"
          ],
          [
           "(66,68)"
          ],
          [
           "(66,76)"
          ],
          [
           "(66,77)"
          ],
          [
           "(66,78)"
          ],
          [
           "(67,68)"
          ],
          [
           "(67,69)"
          ],
          [
           "(67,75)"
          ],
          [
           "(67,76)"
          ],
          [
           "(67,77)"
          ],
          [
           "(68,69)"
          ],
          [
           "(68,70)"
          ],
          [
           "(68,74)"
          ],
          [
           "(68,75)"
          ],
          [
           "(68,76)"
          ],
          [
           "(69,70)"
          ],
          [
           "(69,71)"
          ],
          [
           "(69,73)"
          ],
          [
           "(69,74)"
          ],
          [
           "(69,75)"
          ],
          [
           "(70,71)"
          ],
          [
           "(70,72)"
          ],
          [
           "(70,73)"
          ],
          [
           "(70,74)"
          ],
          [
           "(71,72)"
          ],
          [
           "(71,73)"
          ],
          [
           "(72,73)"
          ],
          [
           "(72,74)"
          ],
          [
           "(73,74)"
          ],
          [
           "(73,75)"
          ],
          [
           "(74,75)"
          ],
          [
           "(74,76)"
          ],
          [
           "(75,76)"
          ],
          [
           "(75,77)"
          ],
          [
           "(76,77)"
          ],
          [
           "(76,78)"
          ],
          [
           "(77,78)"
          ],
          [
           "(77,79)"
          ],
          [
           "(78,79)"
          ],
          [
           "(78,80)"
          ],
          [
           "(79,80)"
          ]
         ],
         "hovertemplate": "cycle_id=cycle_01<br>X_Error=%{x}<br>Y_Shift=%{y}<br>edge_id=%{customdata[0]}<extra></extra>",
         "legendgroup": "cycle_01",
         "marker": {
          "color": "#EF553B",
          "line": {
           "color": "DarkSlateGrey",
           "width": 1
          },
          "opacity": 0.6,
          "size": 8,
          "symbol": "circle"
         },
         "mode": "markers",
         "name": "cycle_01",
         "orientation": "v",
         "showlegend": true,
         "type": "scatter",
         "x": [
          4.5850443840026855,
          2.7851827144622803,
          1.3688064813613892,
          6.819083213806152,
          1.532900333404541,
          1.1359436511993408,
          2.7185866832733154,
          0.9403677582740784,
          1.31328547000885,
          0.4597008526325226,
          1.3044323921203613,
          0.9139266610145569,
          1.647581696510315,
          0.938666820526123,
          1.357984185218811,
          0.9835163950920105,
          2.1990408897399902,
          1.8213461637496948,
          0.9588315486907959,
          1.0183290243148804,
          0.9865831732749939,
          0.9913179278373718,
          0.9064845442771912,
          1.9300196170806885,
          1.670225739479065,
          1.0099610090255737,
          0.7991157174110413,
          1.59685480594635,
          0.7588977217674255,
          2.319119453430176,
          1.0160353183746338,
          1.0636581182479858,
          4.27315092086792,
          0.7947102189064026,
          2.5206451416015625,
          0.8682827949523926,
          0.8328685164451599,
          0.8930315375328064,
          2.0596303939819336,
          2.5928783416748047,
          0.8467247486114502,
          0.9605940580368042,
          0.9891326427459717,
          0.70233154296875,
          2.7344024181365967,
          0.9707909822463989,
          2.109004497528076,
          0.8345820307731628,
          1.1339281797409058,
          0.9591607451438904,
          2.2359273433685303,
          0.7119782567024231,
          1.872262954711914,
          1.337203860282898,
          1.1778209209442139,
          0.7558333873748779,
          2.4422497749328613,
          1.1540486812591553,
          1.086320161819458,
          0.7789812684059143,
          0.976249098777771,
          0.9650043845176697,
          2.6841847896575928,
          0.9885783791542053,
          2.4397032260894775,
          0.9377529621124268,
          1.1812704801559448,
          1.0916128158569336,
          1.840826392173767,
          0.7588511109352112,
          1.5076664686203003,
          0.7431585192680359,
          1.0850019454956055,
          0.881338894367218,
          2.5877602100372314,
          2.631702423095703,
          0.9451621770858765,
          0.8083248138427734,
          1.4508930444717407,
          0.9624583125114441,
          1.7252662181854248,
          1.470786213874817,
          2.1227359771728516,
          1.0901236534118652,
          1.2977547645568848,
          0.7878666520118713,
          2.5225751399993896,
          0.7336839437484741,
          1.1673665046691895,
          0.7552065253257751,
          1.3868476152420044,
          1.0428097248077393,
          2.0432329177856445,
          2.0304853916168213,
          1.3070284128189087,
          0.9095908403396606,
          1.1634844541549683,
          0.9321284294128418,
          2.0600898265838623,
          1.41549813747406,
          1.9313628673553467,
          1.088585376739502,
          1.1021746397018433,
          1.2048470973968506,
          2.6228716373443604,
          0.8687413334846497,
          1.5223010778427124,
          0.8120989203453064,
          1.2092747688293457,
          2.4372284412384033,
          1.6036137342453003,
          1.1107407808303833,
          0.8355638980865479,
          1.335262656211853,
          0.8763242959976196,
          1.020395040512085,
          1.2003915309906006,
          2.072066068649292,
          0.9143843650817871,
          1.1261065006256104,
          1.0601978302001953,
          3.0959839820861816,
          4.083552360534668,
          0.5998420119285583,
          3.2063045501708984,
          1.5469841957092285,
          1.0789235830307007,
          1.2916369438171387,
          0.9635685682296753,
          0.9815187454223633,
          1.0652345418930054,
          1.857767105102539,
          0.7819930911064148,
          1.1548209190368652,
          0.866008996963501,
          2.0340542793273926,
          0.9408276677131653,
          1.4354755878448486,
          1.835444688796997,
          1.0429842472076416,
          0.8911303281784058,
          1.0095412731170654,
          0.8038675785064697,
          2.7171242237091064,
          0.9054487347602844,
          0.8252543210983276,
          1.5208359956741333,
          0.9540994763374329,
          1.5508061647415161,
          0.7687584161758423,
          1.0808573961257935,
          2.293760061264038,
          0.8045334815979004,
          2.150803327560425,
          0.888481080532074,
          0.8648731708526611,
          0.8958166837692261,
          1.8430925607681274,
          0.9594609141349792,
          4.242608547210693,
          0.845196008682251,
          1.1291424036026,
          0.862149178981781,
          1.0741541385650635,
          1.2782764434814453,
          2.6226093769073486,
          0.65116286277771,
          0.9774872660636902,
          0.8408471345901489,
          8.608857154846191,
          1.1842176914215088,
          2.2609431743621826,
          0.957706093788147,
          1.4989876747131348,
          1.1984858512878418,
          1.6484100818634033,
          0.9157751202583313,
          2.0996222496032715,
          0.897826075553894,
          1.0845983028411865,
          0.994238018989563,
          2.326591730117798,
          1.2747015953063965,
          2.5599167346954346,
          1.1176480054855347,
          1.1960350275039673,
          0.9196355938911438,
          2.5460000038146973,
          1.3825550079345703,
          0.9481000900268555,
          1.1348797082901,
          0.9654998779296875,
          2.420881509780884,
          0.8258153200149536,
          1.0934251546859741,
          2.359036684036255,
          1.1848222017288208,
          2.5662007331848145,
          1.14223051071167,
          0.7667195200920105,
          1.76278555393219,
          1.2362406253814697,
          2.6969809532165527,
          0.889135479927063,
          1.3332940340042114,
          1.1573714017868042,
          2.506714344024658,
          1.3378708362579346,
          2.7337355613708496,
          1.1041102409362793,
          1.2412317991256714,
          0.9814618825912476,
          2.2751903533935547,
          1.062142252922058,
          2.710503578186035,
          1.1127294301986694,
          1.2227925062179565,
          1.0851788520812988,
          2.076693296432495,
          1.036955714225769,
          2.0547080039978027,
          0.8125155568122864,
          1.0450539588928223,
          0.7779486775398254,
          2.841998815536499,
          1.1516722440719604,
          3.3903706073760986,
          0.7299748659133911,
          0.8617973923683167,
          0.9945358037948608,
          1.7186013460159302,
          1.056138038635254,
          2.2724609375,
          0.8836719393730164,
          1.164802074432373,
          0.6531678438186646,
          1.6302961111068726,
          1.0873905420303345,
          0.8165324926376343,
          0.9280186295509338,
          0.7613862752914429,
          2.7240118980407715,
          1.002990484237671,
          0.777707040309906,
          2.7519054412841797,
          0.9396356344223022,
          2.558594226837158,
          0.7978343963623047,
          1.0060027837753296,
          1.411060094833374,
          0.7246243357658386,
          1.6066792011260986,
          0.7930813431739807,
          0.9766550660133362,
          0.6896106600761414,
          1.616211175918579,
          0.8920565843582153,
          2.2820005416870117,
          1.0174176692962646,
          1.172062873840332,
          0.8029451966285706,
          2.770885705947876,
          0.8731918334960938,
          3.2574172019958496,
          0.6530302166938782,
          1.1995307207107544,
          0.6222862005233765,
          2.234431028366089,
          1.0011767148971558,
          3.2680256366729736,
          0.9248353242874146,
          0.9589977264404297,
          0.6569395661354065,
          2.408454179763794,
          1.2089790105819702,
          2.0886662006378174,
          0.9751725196838379,
          1.0194766521453857,
          0.9836899638175964,
          1.968238353729248,
          1.1995881795883179,
          3.3693509101867676,
          0.9129020571708679,
          1.1387168169021606,
          0.9564623832702637,
          2.391702890396118,
          1.2931994199752808,
          1.033822774887085,
          1.383750557899475,
          0.9606475234031677,
          2.8218443393707275,
          0.8824644684791565,
          0.8310777544975281,
          1.6722158193588257,
          0.7613142132759094,
          2.662202835083008,
          0.6967822313308716,
          0.798259973526001,
          0.7585503458976746,
          1.3285064697265625,
          3.601954698562622,
          0.9623104929924011,
          0.8412646055221558,
          0.4190285801887512,
          2.860438346862793,
          0.9874694347381592,
          2.2006828784942627,
          1.049420714378357,
          1.4792733192443848,
          1.0458154678344727,
          2.377525568008423,
          0.9464693665504456,
          1.936081886291504,
          1.0614489316940308,
          1.1552982330322266,
          0.955365002155304,
          2.0607857704162598,
          0.9431645274162292,
          2.5464837551116943,
          1.0766255855560303,
          1.1397453546524048,
          0.8148349523544312,
          1.8343148231506348,
          0.8162049651145935,
          2.4911365509033203,
          0.7453461289405823,
          1.4256397485733032,
          0.8723973035812378,
          1.9669541120529175,
          1.0584107637405396,
          3.736665725708008,
          1.0714861154556274,
          1.146253228187561,
          0.9185666441917419,
          2.699411392211914,
          1.1271886825561523,
          0.7340009212493896,
          1.0222232341766357,
          0.8341802358627319,
          2.054154634475708,
          0.9580504298210144,
          1.4845894575119019,
          1.6018328666687012,
          0.8801612257957458,
          3.0570180416107178,
          0.7754396796226501,
          1.0225465297698975,
          0.8123809695243835,
          2.413029193878174,
          0.690746545791626,
          0.7016562223434448,
          0.8743667006492615,
          0.9598002433776855,
          1.8221049308776855,
          0.849894642829895,
          1.008741021156311,
          0.8722653388977051,
          0.9530870914459229,
          2.6097500324249268,
          0.6319910883903503,
          1.0042152404785156,
          0.8533340096473694,
          1.1500558853149414,
          2.5670063495635986,
          0.6964954733848572,
          0.992093026638031,
          0.7674447298049927,
          1.1444340944290161,
          2.628523111343384,
          1.0900131464004517,
          1.2558600902557373,
          1.1056047677993774,
          1.6863702535629272,
          2.45792293548584,
          1.344541311264038,
          1.8320367336273193,
          0.9297275543212891,
          0.7348175048828125,
          0.867283821105957,
          0.6925882697105408,
          0.8891000151634216,
          0.6952778100967407,
          0.5922088027000427,
          0.8807108402252197,
          2.2912209033966064,
          0.9621991515159607,
          2.5170483589172363,
          0.7234765291213989,
          2.269195795059204,
          0.9876275062561035,
          2.5509822368621826,
          0.9188436269760132,
          1.7961186170578003,
          0.8805077075958252,
          2.8728437423706055,
          0.9842863082885742,
          1.6902415752410889,
          0.769713282585144
         ],
         "xaxis": "x",
         "y": [
          47.90010590989856,
          252.13173754486485,
          10.903669296153158,
          501.99904774427335,
          22.322409501953434,
          5.8855757757864655,
          554.76163953868,
          11.681181022558777,
          6.003332408020739,
          9.26606746035284,
          296.00168918436935,
          6.726811835688813,
          55.43735126796079,
          10.86001826339226,
          8.300602578517827,
          8.006247497963198,
          218.70228317317847,
          4.780167416574586,
          6.6573266590456015,
          6.020797289396148,
          9.879270803438187,
          7.368174793030829,
          10.159232220662863,
          18.427153495912336,
          4.123105625617661,
          7.0830785250740025,
          8.82553132486644,
          12.938701254688633,
          5.3460267493812905,
          267.00187265260894,
          8.98999482333976,
          6.600757436949788,
          121.67250975027714,
          5.948108774034586,
          112.17134062628453,
          11.23076107466013,
          8.161495339691724,
          11.030866056249971,
          11.643024042322416,
          29.11717744221679,
          7.6105189412538365,
          8.973850728144622,
          5.021951910069721,
          6.673080390480242,
          24.63513678563653,
          6.768308410611171,
          8.161495339691724,
          12.753431337169122,
          6.200806208484971,
          8.000000190734864,
          66.20754938787023,
          10.722872558301933,
          8.931965062805324,
          11.412711784344777,
          7.5,
          8.005623150123267,
          29.017236257093817,
          515.1147394985138,
          5.0990195135927845,
          10.735455063590146,
          6.414047059796761,
          8.09567767779098,
          46.81068177872298,
          5.300000190734863,
          123.32825963390798,
          10.404326023342406,
          9.008884503908815,
          8.640601918084494,
          7.368174996885528,
          2.3409400310306623,
          9.850888474569356,
          10.937092467426833,
          9.664884847871683,
          12.791012427946615,
          15.532224567009067,
          14.451643192727133,
          6.016643772803771,
          9.992997518698878,
          5.728001403307609,
          8.507056229031232,
          108.8045985428121,
          6.888396231812327,
          4.940647786791841,
          11.870130793486394,
          7.7665950471689325,
          10.499523922254484,
          4.414748196706111,
          7.083784103486482,
          6.082762530298219,
          10.340696121206419,
          9.14439679854805,
          10.463746789365093,
          3.832753625379474,
          8.757282494085333,
          5.0990195135927845,
          8.805679972645775,
          5.314132086083166,
          7.789736980899801,
          14.035668847618199,
          5.4571056337413815,
          292.00171232374646,
          12.354756335916669,
          8.309633155017563,
          8.213403608524139,
          4.920365838875916,
          5.980802498941222,
          9.386160382361048,
          8.026207107598061,
          11.325192821621165,
          166.94791991111038,
          985.4341419472353,
          4.638965310414583,
          8.570297889384062,
          4.701063518757255,
          9.08240065402974,
          6.675327613020197,
          7.045565982876996,
          9.055385138137417,
          11.510864433221338,
          8.590692254972668,
          8.631338455222053,
          367.4228701580088,
          6.800735327989029,
          11.200446632539776,
          270.3239669191615,
          7.75241878511267,
          6.664833121245995,
          6.328507125054814,
          11.289375747505778,
          247.53232112190926,
          5.9506303052675245,
          345.72432433942765,
          11.49826110629899,
          7.723341057553614,
          9.209777421446617,
          6.3126857868322315,
          9.091754589011156,
          7.200694220262101,
          208.3024034219536,
          7.130918674645588,
          10.376897335983106,
          7.885429425516899,
          7.121797509836838,
          165.73581387199943,
          6.319810313866968,
          10.600471393431999,
          303.0683212662088,
          7.741446704702979,
          8.459314014227674,
          8.947066883477147,
          6.907966468128844,
          135.35335542860776,
          3.8013155115736295,
          6.8731362996811125,
          7.2277243879618585,
          5.5731499133869224,
          9.257429577597975,
          38.408853904908106,
          6.003332408020739,
          13.437261245380752,
          12.929424200874854,
          5.953990138511196,
          9.330058571242208,
          150.85572882864736,
          6.963476329678603,
          338.823599721914,
          9.920181819110923,
          6.603029658238105,
          6.48459694539982,
          138.00395226610163,
          5.536244026933639,
          7.925906970463863,
          8.860022718645856,
          5.0960770076445705,
          6.6068145689358095,
          346.12429013992323,
          7.4330345564898215,
          23.021728866442675,
          11.101801535323533,
          6.135144840386774,
          8.254090091158199,
          144.90344451116823,
          7.932212779570611,
          236.50211415545527,
          9.617692030835672,
          5.124451281317917,
          6.811754462368037,
          11.543396656863921,
          5.108815815275078,
          9.569221626484241,
          7.203471396634031,
          11.272089390081462,
          23.04972960009405,
          6.963476329678603,
          8.683316981494865,
          149.6561787103497,
          5.035871327646312,
          1.0198039033030286,
          9.897979199669559,
          6.551335829733195,
          76.00657866263946,
          7.368174793030829,
          53.25044448595394,
          11.449017168533127,
          7.6531038479495175,
          9.073587983468164,
          196.20254535171108,
          6.637017306325229,
          18.855767648183818,
          9.563471817799172,
          6.826419458442647,
          10.017983870980897,
          135.10370701490749,
          5.75586638523655,
          10.770329614269007,
          10.728000755490669,
          8.537564240824121,
          10.462313264116943,
          103.67718979523843,
          2.9274563289483044,
          94.40529798737961,
          12.103718228111813,
          9.109335702382776,
          10.904127457669336,
          315.7564823561068,
          8.61452261783802,
          236.73379259264584,
          11.988327949261445,
          10.171037696328215,
          9.718539181106248,
          1003.1326786724339,
          7.117583898566361,
          288.31102482585186,
          12.571793992750877,
          8.658521420587093,
          11.610340629660413,
          38.413020151863904,
          4.8104054051737295,
          10.412012320062395,
          9.170605063699153,
          10.7786824105192,
          43.4115207340896,
          7.5059976023945385,
          10.822661676324957,
          2.9732137045579474,
          7.006425622751772,
          192.0437710523625,
          8.863972331475557,
          5.930430098563336,
          163.64889855135092,
          6.352951985642956,
          23.794536477325806,
          7.0213959575068055,
          5.000999900049791,
          9.762171689226498,
          136.75561840611084,
          5.42309884014373,
          19.37446808177903,
          5.635601077444123,
          5.600892690650554,
          10.153324490386995,
          155.9032010477138,
          6.964193948588294,
          14.39618023214843,
          4.0816662773255725,
          3.3120991273548954,
          7.440430151492144,
          67.40066916738643,
          5.412023467831367,
          154.90322175194063,
          6.555150592799606,
          6.543699125512975,
          9.104943518298457,
          19.41648818598797,
          5.474486367418676,
          1.280624854933515,
          7.080253966027615,
          4.809366053671448,
          11.194641352126773,
          254.30196922580845,
          7.283542908905671,
          514.7517776230521,
          8.692525562142372,
          6.264981850889305,
          8.044874011677843,
          23.021728866442675,
          6.074536807451198,
          7.017834478166286,
          5.703507502126624,
          10.870602324957863,
          18.62686270391968,
          6.789697894354723,
          9.984988613704788,
          45.37664673562522,
          5.277309728776786,
          49.110180718041484,
          9.889893792047873,
          6.675327613020197,
          11.2946893749025,
          7.907591092805809,
          176.3431344737815,
          10.878419095704558,
          7.2027770515690746,
          8.440379292069414,
          84.26078869607397,
          4.716990376485911,
          11.742657090148048,
          9.323089931703649,
          6.844705791880004,
          9.749358826120147,
          390.0012820491748,
          9.239589115271475,
          91.78719649443285,
          11.646887783476476,
          7.800000190734863,
          9.513148880431041,
          16.0312195418814,
          4.019950249041444,
          1.6401219088904158,
          10.417292935021077,
          8.746428177553234,
          11.449017168533127,
          54.00925846556311,
          4.159326900143873,
          149.40334057935107,
          11.845674708848858,
          9.848858184278381,
          11.29291786628378,
          172.40289410421116,
          6.369458499990355,
          31.51269548935045,
          11.795337895982403,
          8.602325648478528,
          9.759098451906004,
          28.417599798936568,
          7.5504967658716335,
          12.435433334328339,
          8.06225774829855,
          8.800567973837822,
          6.972087299802733,
          7.685050371857498,
          11.516944217971757,
          8.372574442604138,
          8.514693182963201,
          163.31105899835663,
          9.303762335276453,
          6.842514029597548,
          5.186521097684408,
          173.8028798978631,
          6.0926184346016985,
          5.824946174864066,
          9.340770805295492,
          5.842088855523779,
          202.60247400548832,
          7.433034373659253,
          5.008991915261249,
          9.811218116758022,
          5.360037116697962,
          19.339596314108096,
          7.55843879607905,
          4.204759017948505,
          8.440379292069414,
          6.072890748306203,
          102.20488919919983,
          8.99888862370617,
          4.560701804950015,
          7.717512471071875,
          6.152235273101218,
          143.30349219273688,
          8.85098854406062,
          5.375871946891671,
          8.229216288614154,
          6.413267694217998,
          233.20214102074655,
          9.228217548509551,
          6.412487912306074,
          7.738862945245088,
          5.894064626861721,
          10.307764064044152,
          7.006425622751772,
          9.984988613704788,
          7.080253966027615,
          9.848857801796104,
          8.876936268806194,
          35.02912997634133,
          6.419501633359332,
          132.1245563463092,
          4.726520729573956,
          415.9011961068347,
          6.708203847200146,
          13.787675811646578,
          6.118823425662888,
          39.31271982492384,
          6.5000001907348635,
          44.611207828208414,
          6.146543549530704,
          11.643024042322416,
          5.249761906629095
         ],
         "yaxis": "y"
        }
       ],
       "layout": {
        "height": 800,
        "legend": {
         "title": {
          "text": "cycle_id"
         },
         "tracegroupgap": 0
        },
        "margin": {
         "t": 60
        },
        "paper_bgcolor": "white",
        "plot_bgcolor": "white",
        "template": {
         "data": {
          "bar": [
           {
            "error_x": {
             "color": "#2a3f5f"
            },
            "error_y": {
             "color": "#2a3f5f"
            },
            "marker": {
             "line": {
              "color": "#E5ECF6",
              "width": 0.5
             },
             "pattern": {
              "fillmode": "overlay",
              "size": 10,
              "solidity": 0.2
             }
            },
            "type": "bar"
           }
          ],
          "barpolar": [
           {
            "marker": {
             "line": {
              "color": "#E5ECF6",
              "width": 0.5
             },
             "pattern": {
              "fillmode": "overlay",
              "size": 10,
              "solidity": 0.2
             }
            },
            "type": "barpolar"
           }
          ],
          "carpet": [
           {
            "aaxis": {
             "endlinecolor": "#2a3f5f",
             "gridcolor": "white",
             "linecolor": "white",
             "minorgridcolor": "white",
             "startlinecolor": "#2a3f5f"
            },
            "baxis": {
             "endlinecolor": "#2a3f5f",
             "gridcolor": "white",
             "linecolor": "white",
             "minorgridcolor": "white",
             "startlinecolor": "#2a3f5f"
            },
            "type": "carpet"
           }
          ],
          "choropleth": [
           {
            "colorbar": {
             "outlinewidth": 0,
             "ticks": ""
            },
            "type": "choropleth"
           }
          ],
          "contour": [
           {
            "colorbar": {
             "outlinewidth": 0,
             "ticks": ""
            },
            "colorscale": [
             [
              0,
              "#0d0887"
             ],
             [
              0.1111111111111111,
              "#46039f"
             ],
             [
              0.2222222222222222,
              "#7201a8"
             ],
             [
              0.3333333333333333,
              "#9c179e"
             ],
             [
              0.4444444444444444,
              "#bd3786"
             ],
             [
              0.5555555555555556,
              "#d8576b"
             ],
             [
              0.6666666666666666,
              "#ed7953"
             ],
             [
              0.7777777777777778,
              "#fb9f3a"
             ],
             [
              0.8888888888888888,
              "#fdca26"
             ],
             [
              1,
              "#f0f921"
             ]
            ],
            "type": "contour"
           }
          ],
          "contourcarpet": [
           {
            "colorbar": {
             "outlinewidth": 0,
             "ticks": ""
            },
            "type": "contourcarpet"
           }
          ],
          "heatmap": [
           {
            "colorbar": {
             "outlinewidth": 0,
             "ticks": ""
            },
            "colorscale": [
             [
              0,
              "#0d0887"
             ],
             [
              0.1111111111111111,
              "#46039f"
             ],
             [
              0.2222222222222222,
              "#7201a8"
             ],
             [
              0.3333333333333333,
              "#9c179e"
             ],
             [
              0.4444444444444444,
              "#bd3786"
             ],
             [
              0.5555555555555556,
              "#d8576b"
             ],
             [
              0.6666666666666666,
              "#ed7953"
             ],
             [
              0.7777777777777778,
              "#fb9f3a"
             ],
             [
              0.8888888888888888,
              "#fdca26"
             ],
             [
              1,
              "#f0f921"
             ]
            ],
            "type": "heatmap"
           }
          ],
          "heatmapgl": [
           {
            "colorbar": {
             "outlinewidth": 0,
             "ticks": ""
            },
            "colorscale": [
             [
              0,
              "#0d0887"
             ],
             [
              0.1111111111111111,
              "#46039f"
             ],
             [
              0.2222222222222222,
              "#7201a8"
             ],
             [
              0.3333333333333333,
              "#9c179e"
             ],
             [
              0.4444444444444444,
              "#bd3786"
             ],
             [
              0.5555555555555556,
              "#d8576b"
             ],
             [
              0.6666666666666666,
              "#ed7953"
             ],
             [
              0.7777777777777778,
              "#fb9f3a"
             ],
             [
              0.8888888888888888,
              "#fdca26"
             ],
             [
              1,
              "#f0f921"
             ]
            ],
            "type": "heatmapgl"
           }
          ],
          "histogram": [
           {
            "marker": {
             "pattern": {
              "fillmode": "overlay",
              "size": 10,
              "solidity": 0.2
             }
            },
            "type": "histogram"
           }
          ],
          "histogram2d": [
           {
            "colorbar": {
             "outlinewidth": 0,
             "ticks": ""
            },
            "colorscale": [
             [
              0,
              "#0d0887"
             ],
             [
              0.1111111111111111,
              "#46039f"
             ],
             [
              0.2222222222222222,
              "#7201a8"
             ],
             [
              0.3333333333333333,
              "#9c179e"
             ],
             [
              0.4444444444444444,
              "#bd3786"
             ],
             [
              0.5555555555555556,
              "#d8576b"
             ],
             [
              0.6666666666666666,
              "#ed7953"
             ],
             [
              0.7777777777777778,
              "#fb9f3a"
             ],
             [
              0.8888888888888888,
              "#fdca26"
             ],
             [
              1,
              "#f0f921"
             ]
            ],
            "type": "histogram2d"
           }
          ],
          "histogram2dcontour": [
           {
            "colorbar": {
             "outlinewidth": 0,
             "ticks": ""
            },
            "colorscale": [
             [
              0,
              "#0d0887"
             ],
             [
              0.1111111111111111,
              "#46039f"
             ],
             [
              0.2222222222222222,
              "#7201a8"
             ],
             [
              0.3333333333333333,
              "#9c179e"
             ],
             [
              0.4444444444444444,
              "#bd3786"
             ],
             [
              0.5555555555555556,
              "#d8576b"
             ],
             [
              0.6666666666666666,
              "#ed7953"
             ],
             [
              0.7777777777777778,
              "#fb9f3a"
             ],
             [
              0.8888888888888888,
              "#fdca26"
             ],
             [
              1,
              "#f0f921"
             ]
            ],
            "type": "histogram2dcontour"
           }
          ],
          "mesh3d": [
           {
            "colorbar": {
             "outlinewidth": 0,
             "ticks": ""
            },
            "type": "mesh3d"
           }
          ],
          "parcoords": [
           {
            "line": {
             "colorbar": {
              "outlinewidth": 0,
              "ticks": ""
             }
            },
            "type": "parcoords"
           }
          ],
          "pie": [
           {
            "automargin": true,
            "type": "pie"
           }
          ],
          "scatter": [
           {
            "fillpattern": {
             "fillmode": "overlay",
             "size": 10,
             "solidity": 0.2
            },
            "type": "scatter"
           }
          ],
          "scatter3d": [
           {
            "line": {
             "colorbar": {
              "outlinewidth": 0,
              "ticks": ""
             }
            },
            "marker": {
             "colorbar": {
              "outlinewidth": 0,
              "ticks": ""
             }
            },
            "type": "scatter3d"
           }
          ],
          "scattercarpet": [
           {
            "marker": {
             "colorbar": {
              "outlinewidth": 0,
              "ticks": ""
             }
            },
            "type": "scattercarpet"
           }
          ],
          "scattergeo": [
           {
            "marker": {
             "colorbar": {
              "outlinewidth": 0,
              "ticks": ""
             }
            },
            "type": "scattergeo"
           }
          ],
          "scattergl": [
           {
            "marker": {
             "colorbar": {
              "outlinewidth": 0,
              "ticks": ""
             }
            },
            "type": "scattergl"
           }
          ],
          "scattermapbox": [
           {
            "marker": {
             "colorbar": {
              "outlinewidth": 0,
              "ticks": ""
             }
            },
            "type": "scattermapbox"
           }
          ],
          "scatterpolar": [
           {
            "marker": {
             "colorbar": {
              "outlinewidth": 0,
              "ticks": ""
             }
            },
            "type": "scatterpolar"
           }
          ],
          "scatterpolargl": [
           {
            "marker": {
             "colorbar": {
              "outlinewidth": 0,
              "ticks": ""
             }
            },
            "type": "scatterpolargl"
           }
          ],
          "scatterternary": [
           {
            "marker": {
             "colorbar": {
              "outlinewidth": 0,
              "ticks": ""
             }
            },
            "type": "scatterternary"
           }
          ],
          "surface": [
           {
            "colorbar": {
             "outlinewidth": 0,
             "ticks": ""
            },
            "colorscale": [
             [
              0,
              "#0d0887"
             ],
             [
              0.1111111111111111,
              "#46039f"
             ],
             [
              0.2222222222222222,
              "#7201a8"
             ],
             [
              0.3333333333333333,
              "#9c179e"
             ],
             [
              0.4444444444444444,
              "#bd3786"
             ],
             [
              0.5555555555555556,
              "#d8576b"
             ],
             [
              0.6666666666666666,
              "#ed7953"
             ],
             [
              0.7777777777777778,
              "#fb9f3a"
             ],
             [
              0.8888888888888888,
              "#fdca26"
             ],
             [
              1,
              "#f0f921"
             ]
            ],
            "type": "surface"
           }
          ],
          "table": [
           {
            "cells": {
             "fill": {
              "color": "#EBF0F8"
             },
             "line": {
              "color": "white"
             }
            },
            "header": {
             "fill": {
              "color": "#C8D4E3"
             },
             "line": {
              "color": "white"
             }
            },
            "type": "table"
           }
          ]
         },
         "layout": {
          "annotationdefaults": {
           "arrowcolor": "#2a3f5f",
           "arrowhead": 0,
           "arrowwidth": 1
          },
          "autotypenumbers": "strict",
          "coloraxis": {
           "colorbar": {
            "outlinewidth": 0,
            "ticks": ""
           }
          },
          "colorscale": {
           "diverging": [
            [
             0,
             "#8e0152"
            ],
            [
             0.1,
             "#c51b7d"
            ],
            [
             0.2,
             "#de77ae"
            ],
            [
             0.3,
             "#f1b6da"
            ],
            [
             0.4,
             "#fde0ef"
            ],
            [
             0.5,
             "#f7f7f7"
            ],
            [
             0.6,
             "#e6f5d0"
            ],
            [
             0.7,
             "#b8e186"
            ],
            [
             0.8,
             "#7fbc41"
            ],
            [
             0.9,
             "#4d9221"
            ],
            [
             1,
             "#276419"
            ]
           ],
           "sequential": [
            [
             0,
             "#0d0887"
            ],
            [
             0.1111111111111111,
             "#46039f"
            ],
            [
             0.2222222222222222,
             "#7201a8"
            ],
            [
             0.3333333333333333,
             "#9c179e"
            ],
            [
             0.4444444444444444,
             "#bd3786"
            ],
            [
             0.5555555555555556,
             "#d8576b"
            ],
            [
             0.6666666666666666,
             "#ed7953"
            ],
            [
             0.7777777777777778,
             "#fb9f3a"
            ],
            [
             0.8888888888888888,
             "#fdca26"
            ],
            [
             1,
             "#f0f921"
            ]
           ],
           "sequentialminus": [
            [
             0,
             "#0d0887"
            ],
            [
             0.1111111111111111,
             "#46039f"
            ],
            [
             0.2222222222222222,
             "#7201a8"
            ],
            [
             0.3333333333333333,
             "#9c179e"
            ],
            [
             0.4444444444444444,
             "#bd3786"
            ],
            [
             0.5555555555555556,
             "#d8576b"
            ],
            [
             0.6666666666666666,
             "#ed7953"
            ],
            [
             0.7777777777777778,
             "#fb9f3a"
            ],
            [
             0.8888888888888888,
             "#fdca26"
            ],
            [
             1,
             "#f0f921"
            ]
           ]
          },
          "colorway": [
           "#636efa",
           "#EF553B",
           "#00cc96",
           "#ab63fa",
           "#FFA15A",
           "#19d3f3",
           "#FF6692",
           "#B6E880",
           "#FF97FF",
           "#FECB52"
          ],
          "font": {
           "color": "#2a3f5f"
          },
          "geo": {
           "bgcolor": "white",
           "lakecolor": "white",
           "landcolor": "#E5ECF6",
           "showlakes": true,
           "showland": true,
           "subunitcolor": "white"
          },
          "hoverlabel": {
           "align": "left"
          },
          "hovermode": "closest",
          "mapbox": {
           "style": "light"
          },
          "paper_bgcolor": "white",
          "plot_bgcolor": "#E5ECF6",
          "polar": {
           "angularaxis": {
            "gridcolor": "white",
            "linecolor": "white",
            "ticks": ""
           },
           "bgcolor": "#E5ECF6",
           "radialaxis": {
            "gridcolor": "white",
            "linecolor": "white",
            "ticks": ""
           }
          },
          "scene": {
           "xaxis": {
            "backgroundcolor": "#E5ECF6",
            "gridcolor": "white",
            "gridwidth": 2,
            "linecolor": "white",
            "showbackground": true,
            "ticks": "",
            "zerolinecolor": "white"
           },
           "yaxis": {
            "backgroundcolor": "#E5ECF6",
            "gridcolor": "white",
            "gridwidth": 2,
            "linecolor": "white",
            "showbackground": true,
            "ticks": "",
            "zerolinecolor": "white"
           },
           "zaxis": {
            "backgroundcolor": "#E5ECF6",
            "gridcolor": "white",
            "gridwidth": 2,
            "linecolor": "white",
            "showbackground": true,
            "ticks": "",
            "zerolinecolor": "white"
           }
          },
          "shapedefaults": {
           "line": {
            "color": "#2a3f5f"
           }
          },
          "ternary": {
           "aaxis": {
            "gridcolor": "white",
            "linecolor": "white",
            "ticks": ""
           },
           "baxis": {
            "gridcolor": "white",
            "linecolor": "white",
            "ticks": ""
           },
           "bgcolor": "#E5ECF6",
           "caxis": {
            "gridcolor": "white",
            "linecolor": "white",
            "ticks": ""
           }
          },
          "title": {
           "x": 0.05
          },
          "xaxis": {
           "automargin": true,
           "gridcolor": "white",
           "linecolor": "white",
           "ticks": "",
           "title": {
            "standoff": 15
           },
           "zerolinecolor": "white",
           "zerolinewidth": 2
          },
          "yaxis": {
           "automargin": true,
           "gridcolor": "white",
           "linecolor": "white",
           "ticks": "",
           "title": {
            "standoff": 15
           },
           "zerolinecolor": "white",
           "zerolinewidth": 2
          }
         }
        },
        "title": {
         "text": "Error vs Shift"
        },
        "uniformtext": {
         "minsize": 12,
         "mode": "hide"
        },
        "width": 1200,
        "xaxis": {
         "anchor": "y",
         "domain": [
          0,
          1
         ],
         "linecolor": "black",
         "mirror": true,
         "showline": true,
         "title": {
          "font": {
           "color": "black",
           "family": "Arial",
           "size": 18
          },
          "text": "Error (NCC)"
         }
        },
        "yaxis": {
         "anchor": "x",
         "domain": [
          0,
          1
         ],
         "linecolor": "black",
         "mirror": true,
         "nticks": 7,
         "showline": true,
         "title": {
          "font": {
           "color": "black",
           "family": "Arial",
           "size": 18
          },
          "text": "Shift distance (pixels)"
         },
         "type": "log"
        }
       }
      }
     },
     "metadata": {},
     "output_type": "display_data"
    }
   ],
   "source": [
    "plot_scatter_shift_error(df_fileseries, save_path=\"../figures/20240410_1316_scatter_shift_error.html\")"
   ]
  },
  {
   "cell_type": "code",
   "execution_count": 120,
   "metadata": {},
   "outputs": [
    {
     "data": {
      "image/png": "[encoded data removed]",
      "text/plain": [
       "<Figure size 640x480 with 1 Axes>"
      ]
     },
     "metadata": {},
     "output_type": "display_data"
    }
   ],
   "source": [
    "plot_edge_shifts(aligners_fileseries[0])"
   ]
  },
  {
   "cell_type": "code",
   "execution_count": 124,
   "metadata": {},
   "outputs": [
    {
     "data": {
      "image/png": "[encoded data removed]",
      "text/plain": [
       "<Figure size 640x480 with 2 Axes>"
      ]
     },
     "metadata": {},
     "output_type": "display_data"
    }
   ],
   "source": [
    "plot_edge_quality(aligners_fileseries[0])"
   ]
  },
  {
   "cell_type": "code",
   "execution_count": 126,
   "metadata": {},
   "outputs": [
    {
     "name": "stderr",
     "output_type": "stream",
     "text": [
      "/opt/homebrew/Caskroom/mambaforge/base/envs/ashlar/lib/python3.10/site-packages/ashlar/reg.py:1469: UserWarning:\n",
      "\n",
      "\n",
      "\n",
      "`distplot` is a deprecated function and will be removed in seaborn v0.14.0.\n",
      "\n",
      "Please adapt your code to use either `displot` (a figure-level function with\n",
      "similar flexibility) or `histplot` (an axes-level function for histograms).\n",
      "\n",
      "For a guide to updating your code to use the new functions, please see\n",
      "https://gist.github.com/mwaskom/de44147ed2974457ad6372750bbe5751\n",
      "\n",
      "\n",
      "/opt/homebrew/Caskroom/mambaforge/base/envs/ashlar/lib/python3.10/site-packages/ashlar/reg.py:1472: UserWarning:\n",
      "\n",
      "\n",
      "\n",
      "`distplot` is a deprecated function and will be removed in seaborn v0.14.0.\n",
      "\n",
      "Please adapt your code to use either `displot` (a figure-level function with\n",
      "similar flexibility) or `histplot` (an axes-level function for histograms).\n",
      "\n",
      "For a guide to updating your code to use the new functions, please see\n",
      "https://gist.github.com/mwaskom/de44147ed2974457ad6372750bbe5751\n",
      "\n",
      "\n"
     ]
    },
    {
     "data": {
      "image/png": "[encoded data removed]",
      "text/plain": [
       "<Figure size 600x600 with 3 Axes>"
      ]
     },
     "metadata": {},
     "output_type": "display_data"
    }
   ],
   "source": [
    "plot_edge_scatter(aligners_fileseries[0])"
   ]
  }
 ],
 "metadata": {
  "kernelspec": {
   "display_name": "ashlar",
   "language": "python",
   "name": "python3"
  },
  "language_info": {
   "codemirror_mode": {
    "name": "ipython",
    "version": 3
   },
   "file_extension": ".py",
   "mimetype": "text/x-python",
   "name": "python",
   "nbconvert_exporter": "python",
   "pygments_lexer": "ipython3",
   "version": "3.10.13"
  }
 },
 "nbformat": 4,
 "nbformat_minor": 2
}
